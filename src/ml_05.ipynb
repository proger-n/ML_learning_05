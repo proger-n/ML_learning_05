{
  "cells": [
    {
      "cell_type": "markdown",
      "metadata": {
        "id": "hHGuysMJf8v1"
      },
      "source": [
        "# Description  \n",
        "[Colab Link](https://colab.research.google.com/drive/1HSaMX9KLs2a0y3unixrTbHPSH9uKs4Y3?usp=sharing)  \n",
        "Одной из самых больших проблем при покупке подержанного автомобиля на автоаукционе является риск того, что у машины могут быть серьезные проблемы, которые не позволят продать ее клиентам. В автомобильном сообществе такие неудачные покупки называют \"киками\".\n",
        "\n",
        "Кикнутые автомобили часто становятся результатом подделки одометров, механических проблем, которые дилер не в состоянии решить, проблем с получением права собственности на автомобиль от продавца или других непредвиденных проблем. Кикнутые автомобили могут обойтись дилерам очень дорого, если учесть транспортные расходы, затраты на ремонт и рыночные потери при перепродаже автомобиля.\n",
        "\n",
        "Специалисты по моделированию, способные определить, какие автомобили имеют более высокий риск стать \"киком\", могут принести реальную пользу дилерским центрам, стремящимся предоставить своим клиентам наилучший выбор товарного запаса.\n",
        "\n",
        "Задача этого конкурса - предсказать, является ли автомобиль, купленный на аукционе, \"киком\" (неудачной покупкой).  \n",
        "- **Target:** `'IsBadBuy'`"
      ]
    },
    {
      "cell_type": "markdown",
      "metadata": {
        "id": "PmVDK7B0eib7"
      },
      "source": [
        "Field Name\t\t---\t\tDefinition\n",
        "- RefID\t\t\t\t---        Unique (sequential) number assigned to vehicles\n",
        "- IsBadBuy\t(target)\t\t--- \tIdentifies if the kicked vehicle was an avoidable - purchase\n",
        "- PurchDate\t\t\t--- \tThe Date the vehicle was Purchased at Auction\n",
        "- Auction\t\t\t--- \t\tAuction provider at which the  vehicle was purchased\n",
        "- VehYear\t\t\t--- \t\tThe manufacturer's year of the vehicle\n",
        "- VehicleAge\t\t--- \t\tThe Years elapsed since the manufacturer's year\n",
        "- Make\t\t\t\t--- \tVehicle Manufacturer\n",
        "- Model\t\t\t\t--- \tVehicle Model\n",
        "- Trim\t\t\t\t--- \tVehicle Trim Level\n",
        "- SubModel\t\t\t--- \tVehicle Submodel\n",
        "- Color\t\t\t\t--- \tVehicle Color\n",
        "- Transmission\t\t--- \t\tVehicles transmission type (Automatic, Manual)\n",
        "- WheelTypeID\t\t--- \t\tThe type id of the vehicle wheel\n",
        "- WheelType\t\t\t--- \tThe vehicle wheel type description (Alloy, Covers)\n",
        "- VehOdo\t\t\t--- \t\tThe vehicles odometer reading\n",
        "- Nationality\t\t--- \t\tThe Manufacturer's country\n",
        "- Size\t\t\t\t--- \tThe size category of the vehicle (Compact, SUV, etc.)\n",
        "- TopThreeAmericanName\t\t--- \tIdentifies if the manufacturer is one of the top three American manufacturers\n",
        "- MMRAcquisitionAuctionAveragePrice\t--- Acquisition price for this vehicle in average condition at time of purchase\n",
        "- MMRAcquisitionAuctionCleanPrice\t--- \tAcquisition price for this vehicle in the above Average condition at time of purchase\n",
        "- MMRAcquisitionRetailAveragePrice\t--- Acquisition price for this vehicle in the retail market in average condition at time of purchase\n",
        "- MMRAcquisitonRetailCleanPrice\t\t--- Acquisition price for this vehicle in the retail market in above average condition at time of purchase\n",
        "- MMRCurrentAuctionAveragePrice\t\t--- Acquisition price for this vehicle in average condition as of current day\n",
        "- MMRCurrentAuctionCleanPrice\t\t--- Acquisition price for this vehicle in the above condition as of current day\n",
        "- MMRCurrentRetailAveragePrice\t\t--- Acquisition price for this vehicle in the retail market in average condition as of current day\n",
        "- MMRCurrentRetailCleanPrice\t\t--- Acquisition price for this vehicle in the retail market in above average condition as of current day\n",
        "- PRIMEUNIT\t\t\t\t--- Identifies if the vehicle would have a higher demand than a standard purchase\n",
        "- AcquisitionType\t\t\t\t--- Identifies how the vehicle was aquired (Auction buy, trade in, etc)\n",
        "- AUCGUART\t\t\t\t--- The level guarntee provided by auction for the vehicle (Green light - Guaranteed/arbitratable, Yellow Light - caution/issue, red light - sold as is)\n",
        "- KickDate\t\t\t\t--- Date the vehicle was kicked back to the auction\n",
        "- BYRNO\t\t\t\t\t--- Unique number assigned to the buyer that purchased the vehicle\n",
        "- VNZIP                ---                    Zipcode where the car was purchased\n",
        "- VNST                ---                     State where the the car was purchased\n",
        "- VehBCost\t\t\t\t--- Acquisition cost paid for the vehicle at time of purchase\n",
        "- IsOnlineSale\t\t--- \t\tIdentifies if the vehicle was originally purchased online\n",
        "- WarrantyCost       ---                      Warranty price (term=36month  and millage=36K)\n",
        "\n",
        "\n",
        "\n"
      ]
    },
    {
      "cell_type": "code",
      "execution_count": 1,
      "metadata": {
        "id": "4d8QLMjzzZNj"
      },
      "outputs": [],
      "source": [
        "import pandas as pd\n",
        "import numpy as np\n",
        "from collections import Counter\n",
        "from sklearn.model_selection import train_test_split\n",
        "from sklearn.preprocessing import OneHotEncoder\n",
        "from sklearn.preprocessing import LabelEncoder\n",
        "from sklearn.compose import ColumnTransformer\n",
        "from sklearn.preprocessing import MinMaxScaler\n",
        "from sklearn.linear_model import LogisticRegression\n",
        "from sklearn.naive_bayes import GaussianNB\n",
        "from sklearn.neighbors import KNeighborsClassifier\n",
        "from sklearn.metrics import accuracy_score, roc_curve, auc, roc_auc_score, precision_recall_curve, mean_squared_error\n",
        "from sklearn import svm\n",
        "from sklearn.model_selection import GridSearchCV\n",
        "from sklearn.tree import DecisionTreeClassifier, DecisionTreeRegressor\n",
        "from tqdm import tqdm\n",
        "import warnings\n",
        "warnings. filterwarnings('ignore')"
      ]
    },
    {
      "cell_type": "markdown",
      "metadata": {
        "id": "Ask5DtR1E28R"
      },
      "source": [
        "# 1. Data preparation"
      ]
    },
    {
      "cell_type": "markdown",
      "metadata": {
        "id": "wFxKmKTnzxh_"
      },
      "source": [
        "## 1. Download data from Don’tGetKicked competition."
      ]
    },
    {
      "cell_type": "code",
      "execution_count": 3,
      "metadata": {
        "colab": {
          "base_uri": "https://localhost:8080/",
          "height": 412
        },
        "id": "MxaNDmeMzZKj",
        "outputId": "f7a77681-742a-4f8d-f924-9b46e8983dfb"
      },
      "outputs": [
        {
          "data": {
            "text/html": [
              "<div>\n",
              "<style scoped>\n",
              "    .dataframe tbody tr th:only-of-type {\n",
              "        vertical-align: middle;\n",
              "    }\n",
              "\n",
              "    .dataframe tbody tr th {\n",
              "        vertical-align: top;\n",
              "    }\n",
              "\n",
              "    .dataframe thead th {\n",
              "        text-align: right;\n",
              "    }\n",
              "</style>\n",
              "<table border=\"1\" class=\"dataframe\">\n",
              "  <thead>\n",
              "    <tr style=\"text-align: right;\">\n",
              "      <th></th>\n",
              "      <th>RefId</th>\n",
              "      <th>IsBadBuy</th>\n",
              "      <th>PurchDate</th>\n",
              "      <th>Auction</th>\n",
              "      <th>VehYear</th>\n",
              "      <th>VehicleAge</th>\n",
              "      <th>Make</th>\n",
              "      <th>Model</th>\n",
              "      <th>Trim</th>\n",
              "      <th>SubModel</th>\n",
              "      <th>...</th>\n",
              "      <th>MMRCurrentRetailAveragePrice</th>\n",
              "      <th>MMRCurrentRetailCleanPrice</th>\n",
              "      <th>PRIMEUNIT</th>\n",
              "      <th>AUCGUART</th>\n",
              "      <th>BYRNO</th>\n",
              "      <th>VNZIP1</th>\n",
              "      <th>VNST</th>\n",
              "      <th>VehBCost</th>\n",
              "      <th>IsOnlineSale</th>\n",
              "      <th>WarrantyCost</th>\n",
              "    </tr>\n",
              "  </thead>\n",
              "  <tbody>\n",
              "    <tr>\n",
              "      <th>0</th>\n",
              "      <td>1</td>\n",
              "      <td>0</td>\n",
              "      <td>12/7/2009</td>\n",
              "      <td>ADESA</td>\n",
              "      <td>2006</td>\n",
              "      <td>3</td>\n",
              "      <td>MAZDA</td>\n",
              "      <td>MAZDA3</td>\n",
              "      <td>i</td>\n",
              "      <td>4D SEDAN I</td>\n",
              "      <td>...</td>\n",
              "      <td>11597.0</td>\n",
              "      <td>12409.0</td>\n",
              "      <td>NaN</td>\n",
              "      <td>NaN</td>\n",
              "      <td>21973</td>\n",
              "      <td>33619</td>\n",
              "      <td>FL</td>\n",
              "      <td>7100.0</td>\n",
              "      <td>0</td>\n",
              "      <td>1113</td>\n",
              "    </tr>\n",
              "    <tr>\n",
              "      <th>1</th>\n",
              "      <td>2</td>\n",
              "      <td>0</td>\n",
              "      <td>12/7/2009</td>\n",
              "      <td>ADESA</td>\n",
              "      <td>2004</td>\n",
              "      <td>5</td>\n",
              "      <td>DODGE</td>\n",
              "      <td>1500 RAM PICKUP 2WD</td>\n",
              "      <td>ST</td>\n",
              "      <td>QUAD CAB 4.7L SLT</td>\n",
              "      <td>...</td>\n",
              "      <td>11374.0</td>\n",
              "      <td>12791.0</td>\n",
              "      <td>NaN</td>\n",
              "      <td>NaN</td>\n",
              "      <td>19638</td>\n",
              "      <td>33619</td>\n",
              "      <td>FL</td>\n",
              "      <td>7600.0</td>\n",
              "      <td>0</td>\n",
              "      <td>1053</td>\n",
              "    </tr>\n",
              "    <tr>\n",
              "      <th>2</th>\n",
              "      <td>3</td>\n",
              "      <td>0</td>\n",
              "      <td>12/7/2009</td>\n",
              "      <td>ADESA</td>\n",
              "      <td>2005</td>\n",
              "      <td>4</td>\n",
              "      <td>DODGE</td>\n",
              "      <td>STRATUS V6</td>\n",
              "      <td>SXT</td>\n",
              "      <td>4D SEDAN SXT FFV</td>\n",
              "      <td>...</td>\n",
              "      <td>7146.0</td>\n",
              "      <td>8702.0</td>\n",
              "      <td>NaN</td>\n",
              "      <td>NaN</td>\n",
              "      <td>19638</td>\n",
              "      <td>33619</td>\n",
              "      <td>FL</td>\n",
              "      <td>4900.0</td>\n",
              "      <td>0</td>\n",
              "      <td>1389</td>\n",
              "    </tr>\n",
              "    <tr>\n",
              "      <th>3</th>\n",
              "      <td>4</td>\n",
              "      <td>0</td>\n",
              "      <td>12/7/2009</td>\n",
              "      <td>ADESA</td>\n",
              "      <td>2004</td>\n",
              "      <td>5</td>\n",
              "      <td>DODGE</td>\n",
              "      <td>NEON</td>\n",
              "      <td>SXT</td>\n",
              "      <td>4D SEDAN</td>\n",
              "      <td>...</td>\n",
              "      <td>4375.0</td>\n",
              "      <td>5518.0</td>\n",
              "      <td>NaN</td>\n",
              "      <td>NaN</td>\n",
              "      <td>19638</td>\n",
              "      <td>33619</td>\n",
              "      <td>FL</td>\n",
              "      <td>4100.0</td>\n",
              "      <td>0</td>\n",
              "      <td>630</td>\n",
              "    </tr>\n",
              "    <tr>\n",
              "      <th>4</th>\n",
              "      <td>5</td>\n",
              "      <td>0</td>\n",
              "      <td>12/7/2009</td>\n",
              "      <td>ADESA</td>\n",
              "      <td>2005</td>\n",
              "      <td>4</td>\n",
              "      <td>FORD</td>\n",
              "      <td>FOCUS</td>\n",
              "      <td>ZX3</td>\n",
              "      <td>2D COUPE ZX3</td>\n",
              "      <td>...</td>\n",
              "      <td>6739.0</td>\n",
              "      <td>7911.0</td>\n",
              "      <td>NaN</td>\n",
              "      <td>NaN</td>\n",
              "      <td>19638</td>\n",
              "      <td>33619</td>\n",
              "      <td>FL</td>\n",
              "      <td>4000.0</td>\n",
              "      <td>0</td>\n",
              "      <td>1020</td>\n",
              "    </tr>\n",
              "  </tbody>\n",
              "</table>\n",
              "<p>5 rows × 34 columns</p>\n",
              "</div>"
            ],
            "text/plain": [
              "   RefId  IsBadBuy  PurchDate Auction  VehYear  VehicleAge   Make  \\\n",
              "0      1         0  12/7/2009   ADESA     2006           3  MAZDA   \n",
              "1      2         0  12/7/2009   ADESA     2004           5  DODGE   \n",
              "2      3         0  12/7/2009   ADESA     2005           4  DODGE   \n",
              "3      4         0  12/7/2009   ADESA     2004           5  DODGE   \n",
              "4      5         0  12/7/2009   ADESA     2005           4   FORD   \n",
              "\n",
              "                 Model Trim           SubModel  ...  \\\n",
              "0               MAZDA3    i         4D SEDAN I  ...   \n",
              "1  1500 RAM PICKUP 2WD   ST  QUAD CAB 4.7L SLT  ...   \n",
              "2           STRATUS V6  SXT   4D SEDAN SXT FFV  ...   \n",
              "3                 NEON  SXT           4D SEDAN  ...   \n",
              "4                FOCUS  ZX3       2D COUPE ZX3  ...   \n",
              "\n",
              "  MMRCurrentRetailAveragePrice MMRCurrentRetailCleanPrice  PRIMEUNIT AUCGUART  \\\n",
              "0                      11597.0                    12409.0        NaN      NaN   \n",
              "1                      11374.0                    12791.0        NaN      NaN   \n",
              "2                       7146.0                     8702.0        NaN      NaN   \n",
              "3                       4375.0                     5518.0        NaN      NaN   \n",
              "4                       6739.0                     7911.0        NaN      NaN   \n",
              "\n",
              "   BYRNO VNZIP1 VNST VehBCost  IsOnlineSale  WarrantyCost  \n",
              "0  21973  33619   FL   7100.0             0          1113  \n",
              "1  19638  33619   FL   7600.0             0          1053  \n",
              "2  19638  33619   FL   4900.0             0          1389  \n",
              "3  19638  33619   FL   4100.0             0           630  \n",
              "4  19638  33619   FL   4000.0             0          1020  \n",
              "\n",
              "[5 rows x 34 columns]"
            ]
          },
          "execution_count": 3,
          "metadata": {},
          "output_type": "execute_result"
        }
      ],
      "source": [
        "df = pd.read_csv('data/training.csv')\n",
        "df.head(5)"
      ]
    },
    {
      "cell_type": "code",
      "execution_count": 7,
      "metadata": {
        "colab": {
          "base_uri": "https://localhost:8080/"
        },
        "id": "DnA4emR1zn6U",
        "outputId": "55de2505-0f9f-436b-ff76-352f922b459e"
      },
      "outputs": [
        {
          "name": "stdout",
          "output_type": "stream",
          "text": [
            "<class 'pandas.core.frame.DataFrame'>\n",
            "RangeIndex: 72983 entries, 0 to 72982\n",
            "Data columns (total 34 columns):\n",
            " #   Column                             Non-Null Count  Dtype  \n",
            "---  ------                             --------------  -----  \n",
            " 0   RefId                              72983 non-null  int64  \n",
            " 1   IsBadBuy                           72983 non-null  int64  \n",
            " 2   PurchDate                          72983 non-null  object \n",
            " 3   Auction                            72983 non-null  object \n",
            " 4   VehYear                            72983 non-null  int64  \n",
            " 5   VehicleAge                         72983 non-null  int64  \n",
            " 6   Make                               72983 non-null  object \n",
            " 7   Model                              72983 non-null  object \n",
            " 8   Trim                               70623 non-null  object \n",
            " 9   SubModel                           72975 non-null  object \n",
            " 10  Color                              72975 non-null  object \n",
            " 11  Transmission                       72974 non-null  object \n",
            " 12  WheelTypeID                        69814 non-null  float64\n",
            " 13  WheelType                          69809 non-null  object \n",
            " 14  VehOdo                             72983 non-null  int64  \n",
            " 15  Nationality                        72978 non-null  object \n",
            " 16  Size                               72978 non-null  object \n",
            " 17  TopThreeAmericanName               72978 non-null  object \n",
            " 18  MMRAcquisitionAuctionAveragePrice  72965 non-null  float64\n",
            " 19  MMRAcquisitionAuctionCleanPrice    72965 non-null  float64\n",
            " 20  MMRAcquisitionRetailAveragePrice   72965 non-null  float64\n",
            " 21  MMRAcquisitonRetailCleanPrice      72965 non-null  float64\n",
            " 22  MMRCurrentAuctionAveragePrice      72668 non-null  float64\n",
            " 23  MMRCurrentAuctionCleanPrice        72668 non-null  float64\n",
            " 24  MMRCurrentRetailAveragePrice       72668 non-null  float64\n",
            " 25  MMRCurrentRetailCleanPrice         72668 non-null  float64\n",
            " 26  PRIMEUNIT                          3419 non-null   object \n",
            " 27  AUCGUART                           3419 non-null   object \n",
            " 28  BYRNO                              72983 non-null  int64  \n",
            " 29  VNZIP1                             72983 non-null  int64  \n",
            " 30  VNST                               72983 non-null  object \n",
            " 31  VehBCost                           72983 non-null  float64\n",
            " 32  IsOnlineSale                       72983 non-null  int64  \n",
            " 33  WarrantyCost                       72983 non-null  int64  \n",
            "dtypes: float64(10), int64(9), object(15)\n",
            "memory usage: 18.9+ MB\n"
          ]
        }
      ],
      "source": [
        "df.info()"
      ]
    },
    {
      "cell_type": "code",
      "execution_count": 8,
      "metadata": {
        "colab": {
          "base_uri": "https://localhost:8080/"
        },
        "id": "J0-oOh3zLyea",
        "outputId": "2df49636-17ed-4efc-ceb2-83c83f4419cf"
      },
      "outputs": [
        {
          "data": {
            "text/plain": [
              "0    64007\n",
              "1     8976\n",
              "Name: IsBadBuy, dtype: int64"
            ]
          },
          "execution_count": 8,
          "metadata": {},
          "output_type": "execute_result"
        }
      ],
      "source": [
        "df.IsBadBuy.value_counts()"
      ]
    },
    {
      "cell_type": "markdown",
      "metadata": {
        "id": "jtKrt2kcz_S0"
      },
      "source": [
        "## 2. Design train/validation/test split.\n",
        "Use “PurchDate” field for splitting, test must be later in time than validation, the same goes for validation and train: train.PurchDate < valid.PurchDate < test.PurchDate.\n",
        "Use the first 33% of dates for train, last 33% of dates for test, and middle 33% for validation set.\n",
        "Don’t use the test dataset until the end!"
      ]
    },
    {
      "cell_type": "code",
      "execution_count": 9,
      "metadata": {
        "id": "b5QJOOC_3q8l"
      },
      "outputs": [],
      "source": [
        "df_prepared = df.copy()"
      ]
    },
    {
      "cell_type": "markdown",
      "metadata": {
        "id": "IevM210Qdo4r"
      },
      "source": [
        "проверим дубликаты пропуски"
      ]
    },
    {
      "cell_type": "code",
      "execution_count": 10,
      "metadata": {
        "colab": {
          "base_uri": "https://localhost:8080/"
        },
        "id": "Ix_y6LPMdv9F",
        "outputId": "a3d52d12-b066-4de5-8c84-5bde1d73fb0e"
      },
      "outputs": [
        {
          "data": {
            "text/plain": [
              "False    72983\n",
              "dtype: int64"
            ]
          },
          "execution_count": 10,
          "metadata": {},
          "output_type": "execute_result"
        }
      ],
      "source": [
        "df_prepared.duplicated().value_counts()"
      ]
    },
    {
      "cell_type": "code",
      "execution_count": 11,
      "metadata": {
        "id": "0nmxA4Mjd8d4"
      },
      "outputs": [],
      "source": [
        "def print_useful_rows_info(df):\n",
        "    \"\"\"Количество и процент заполненных строк\"\"\"\n",
        "    print('Amount of useful rows:', len(df.dropna()))\n",
        "    print('Persentage of filled rows', round(len(df.dropna()) / len(df) * 100, 2))"
      ]
    },
    {
      "cell_type": "code",
      "execution_count": 12,
      "metadata": {
        "colab": {
          "base_uri": "https://localhost:8080/"
        },
        "id": "LN4Wbv2Pd8XV",
        "outputId": "85c6e08e-b018-465d-e790-f70ef58c44e0"
      },
      "outputs": [
        {
          "name": "stdout",
          "output_type": "stream",
          "text": [
            "Amount of useful rows: 3276\n",
            "Persentage of filled rows 4.49\n"
          ]
        }
      ],
      "source": [
        "print_useful_rows_info(df_prepared)"
      ]
    },
    {
      "cell_type": "code",
      "execution_count": 13,
      "metadata": {
        "id": "tFXipn0td8Pl"
      },
      "outputs": [],
      "source": [
        "def blank_rows_percentage(df):\n",
        "  \"\"\"Вывод колонок и процента пропусков в каждой\"\"\"\n",
        "  print((df.isna().sum() / len(df) * 100).sort_values(ascending=False))"
      ]
    },
    {
      "cell_type": "code",
      "execution_count": 14,
      "metadata": {
        "colab": {
          "base_uri": "https://localhost:8080/"
        },
        "id": "bLggg4Vld8AP",
        "outputId": "8b458f9c-e95a-446e-846d-6d71aa59ada0"
      },
      "outputs": [
        {
          "name": "stdout",
          "output_type": "stream",
          "text": [
            "PRIMEUNIT                            95.315347\n",
            "AUCGUART                             95.315347\n",
            "WheelType                             4.348958\n",
            "WheelTypeID                           4.342107\n",
            "Trim                                  3.233630\n",
            "MMRCurrentAuctionAveragePrice         0.431607\n",
            "MMRCurrentRetailCleanPrice            0.431607\n",
            "MMRCurrentRetailAveragePrice          0.431607\n",
            "MMRCurrentAuctionCleanPrice           0.431607\n",
            "MMRAcquisitionAuctionAveragePrice     0.024663\n",
            "MMRAcquisitionAuctionCleanPrice       0.024663\n",
            "MMRAcquisitionRetailAveragePrice      0.024663\n",
            "MMRAcquisitonRetailCleanPrice         0.024663\n",
            "Transmission                          0.012332\n",
            "SubModel                              0.010961\n",
            "Color                                 0.010961\n",
            "Nationality                           0.006851\n",
            "Size                                  0.006851\n",
            "TopThreeAmericanName                  0.006851\n",
            "BYRNO                                 0.000000\n",
            "VNZIP1                                0.000000\n",
            "VNST                                  0.000000\n",
            "VehBCost                              0.000000\n",
            "IsOnlineSale                          0.000000\n",
            "RefId                                 0.000000\n",
            "IsBadBuy                              0.000000\n",
            "VehOdo                                0.000000\n",
            "Model                                 0.000000\n",
            "Make                                  0.000000\n",
            "VehicleAge                            0.000000\n",
            "VehYear                               0.000000\n",
            "Auction                               0.000000\n",
            "PurchDate                             0.000000\n",
            "WarrantyCost                          0.000000\n",
            "dtype: float64\n"
          ]
        }
      ],
      "source": [
        "blank_rows_percentage(df_prepared)"
      ]
    },
    {
      "cell_type": "markdown",
      "metadata": {
        "id": "lnLsWb4Ylj0L"
      },
      "source": [
        "в столбцах  PRIMEUNIT  и AUCGUART больше 90% пропусков, удалим эти столбцы"
      ]
    },
    {
      "cell_type": "code",
      "execution_count": 15,
      "metadata": {
        "id": "8_pVRcNEl2ar"
      },
      "outputs": [],
      "source": [
        "df_prepared.drop(columns=['PRIMEUNIT', 'AUCGUART'], axis=0, inplace=True)"
      ]
    },
    {
      "cell_type": "code",
      "execution_count": 16,
      "metadata": {
        "colab": {
          "base_uri": "https://localhost:8080/"
        },
        "id": "cl0-o2MUmTZr",
        "outputId": "e7eac333-ffa7-420a-9cef-1647990acf1a"
      },
      "outputs": [
        {
          "name": "stdout",
          "output_type": "stream",
          "text": [
            "Amount of useful rows: 67270\n",
            "Persentage of filled rows 92.17\n"
          ]
        }
      ],
      "source": [
        "print_useful_rows_info(df_prepared)"
      ]
    },
    {
      "cell_type": "markdown",
      "metadata": {
        "id": "Wcz8bEWMmeHa"
      },
      "source": [
        "остальные пропуски заполним"
      ]
    },
    {
      "cell_type": "code",
      "execution_count": 17,
      "metadata": {
        "colab": {
          "base_uri": "https://localhost:8080/"
        },
        "id": "C-qpXjwUmmK2",
        "outputId": "2a3b7fdf-a74a-4ee8-927c-1b55182a1c9b"
      },
      "outputs": [
        {
          "data": {
            "text/plain": [
              "Alloy      36050\n",
              "Covers     33004\n",
              "Special      755\n",
              "Name: WheelType, dtype: int64"
            ]
          },
          "execution_count": 17,
          "metadata": {},
          "output_type": "execute_result"
        }
      ],
      "source": [
        "df_prepared['WheelType'].value_counts()"
      ]
    },
    {
      "cell_type": "code",
      "execution_count": 18,
      "metadata": {
        "colab": {
          "base_uri": "https://localhost:8080/"
        },
        "id": "QdMpuUb4oYuw",
        "outputId": "6b37fd8e-5c94-494e-8e0b-2e3b4879f32a"
      },
      "outputs": [
        {
          "data": {
            "text/plain": [
              "3174"
            ]
          },
          "execution_count": 18,
          "metadata": {},
          "output_type": "execute_result"
        }
      ],
      "source": [
        "df_prepared['WheelType'].isna().sum()"
      ]
    },
    {
      "cell_type": "code",
      "execution_count": 19,
      "metadata": {
        "colab": {
          "base_uri": "https://localhost:8080/"
        },
        "id": "MnqcFThJml_3",
        "outputId": "cc2c8aa4-a13a-4b50-cb03-1c2e8fcc4017"
      },
      "outputs": [
        {
          "data": {
            "text/plain": [
              "3169"
            ]
          },
          "execution_count": 19,
          "metadata": {},
          "output_type": "execute_result"
        }
      ],
      "source": [
        "df_prepared[df_prepared['WheelType'].isna()]['WheelTypeID'].isna().sum()"
      ]
    },
    {
      "cell_type": "code",
      "execution_count": 20,
      "metadata": {
        "colab": {
          "base_uri": "https://localhost:8080/"
        },
        "id": "RHQiEZfNvhni",
        "outputId": "44cdb816-cc34-46e9-c860-147ad370dff2"
      },
      "outputs": [
        {
          "data": {
            "text/plain": [
              "1.0    36050\n",
              "2.0    33004\n",
              "3.0      755\n",
              "0.0        5\n",
              "Name: WheelTypeID, dtype: int64"
            ]
          },
          "execution_count": 20,
          "metadata": {},
          "output_type": "execute_result"
        }
      ],
      "source": [
        "df_prepared['WheelTypeID'].value_counts()"
      ]
    },
    {
      "cell_type": "markdown",
      "metadata": {
        "id": "V0bpFfrYoPAA"
      },
      "source": [
        "чтобы сохранить больше данных, заполним ячейки как 'other'"
      ]
    },
    {
      "cell_type": "code",
      "execution_count": 21,
      "metadata": {
        "id": "ZLsB4yWdmlyL"
      },
      "outputs": [],
      "source": [
        "df_prepared['WheelType'] = df_prepared['WheelType'].fillna('other')\n",
        "df_prepared['WheelTypeID'] = df_prepared['WheelTypeID'].fillna(-1.0)"
      ]
    },
    {
      "cell_type": "code",
      "execution_count": 22,
      "metadata": {
        "colab": {
          "base_uri": "https://localhost:8080/"
        },
        "id": "LUdSXaKppAUD",
        "outputId": "9457949d-19d7-4544-ccc0-0af37afce621"
      },
      "outputs": [
        {
          "data": {
            "text/plain": [
              "Bas    13950\n",
              "LS     10174\n",
              "SE      9348\n",
              "SXT     3825\n",
              "LT      3540\n",
              "       ...  \n",
              "Har        1\n",
              "LL         1\n",
              "JLX        1\n",
              "JLS        1\n",
              "L 3        1\n",
              "Name: Trim, Length: 134, dtype: int64"
            ]
          },
          "execution_count": 22,
          "metadata": {},
          "output_type": "execute_result"
        }
      ],
      "source": [
        "df_prepared['Trim'].value_counts()"
      ]
    },
    {
      "cell_type": "code",
      "execution_count": 23,
      "metadata": {
        "id": "j8hAXlN9pRu-"
      },
      "outputs": [],
      "source": [
        "df_prepared['Trim'] = df_prepared['Trim'].fillna('other')"
      ]
    },
    {
      "cell_type": "code",
      "execution_count": 24,
      "metadata": {
        "colab": {
          "base_uri": "https://localhost:8080/"
        },
        "id": "dE0T145aqFMt",
        "outputId": "1cd5a484-fb9d-4adc-a4e4-359c7b6b623e"
      },
      "outputs": [
        {
          "name": "stdout",
          "output_type": "stream",
          "text": [
            "Amount of useful rows: 72658\n",
            "Persentage of filled rows 99.55\n"
          ]
        }
      ],
      "source": [
        "print_useful_rows_info(df_prepared)"
      ]
    },
    {
      "cell_type": "code",
      "execution_count": 25,
      "metadata": {
        "colab": {
          "base_uri": "https://localhost:8080/"
        },
        "id": "U9AHBpyHrQpy",
        "outputId": "4d126065-36ff-461d-c94c-35f0518500fb"
      },
      "outputs": [
        {
          "data": {
            "text/plain": [
              "0    0.898462\n",
              "1    0.101538\n",
              "Name: IsBadBuy, dtype: float64"
            ]
          },
          "execution_count": 25,
          "metadata": {},
          "output_type": "execute_result"
        }
      ],
      "source": [
        "df_prepared[df_prepared.isnull().any(axis=1)]['IsBadBuy'].value_counts(normalize=True)"
      ]
    },
    {
      "cell_type": "code",
      "execution_count": 26,
      "metadata": {
        "colab": {
          "base_uri": "https://localhost:8080/"
        },
        "id": "3-kw2pbstbcO",
        "outputId": "7ac8ec6e-44f1-465b-ae46-ebefed5e4302"
      },
      "outputs": [
        {
          "data": {
            "text/plain": [
              "0    0.877012\n",
              "1    0.122988\n",
              "Name: IsBadBuy, dtype: float64"
            ]
          },
          "execution_count": 26,
          "metadata": {},
          "output_type": "execute_result"
        }
      ],
      "source": [
        "df_prepared[df_prepared.notnull()]['IsBadBuy'].value_counts(normalize=True)"
      ]
    },
    {
      "cell_type": "markdown",
      "metadata": {
        "id": "GVvEOvReqONd"
      },
      "source": [
        "остальных пропусков меньше 0,5% и они имеют тот же дисбаланс классов целевой переменной, поэтому\n",
        "можно их удалить"
      ]
    },
    {
      "cell_type": "code",
      "execution_count": 27,
      "metadata": {
        "id": "LfeluSM_uSnG"
      },
      "outputs": [],
      "source": [
        "df_prepared.dropna(inplace=True)"
      ]
    },
    {
      "cell_type": "markdown",
      "metadata": {
        "id": "D-Pvs4GJuiAC"
      },
      "source": [
        "преобразуем категориальные переменные"
      ]
    },
    {
      "cell_type": "markdown",
      "metadata": {
        "id": "Xic0TORG42iZ"
      },
      "source": [
        "удалим разные айдишники"
      ]
    },
    {
      "cell_type": "code",
      "execution_count": 28,
      "metadata": {
        "id": "DWxILyl741Q-"
      },
      "outputs": [],
      "source": [
        "df_prepared.drop(columns=['RefId', 'BYRNO'], axis=1, inplace=True)"
      ]
    },
    {
      "cell_type": "markdown",
      "metadata": {
        "id": "4rNG9tIAkEFv"
      },
      "source": [
        "преобразуем категориальные переменные"
      ]
    },
    {
      "cell_type": "code",
      "execution_count": 29,
      "metadata": {
        "id": "0hs8Ax6A78uX"
      },
      "outputs": [],
      "source": [
        "df_prepared['Model'] = df_prepared['Model'].astype('category')\n",
        "df_prepared['SubModel'] = df_prepared['SubModel'].astype('category')\n",
        "df_prepared['Auction'] = df_prepared['Auction'].astype('category')\n",
        "df_prepared['Make'] = df_prepared['Make'].astype('category')\n",
        "df_prepared['Trim'] = df_prepared['Trim'].astype('category')\n",
        "df_prepared['Color'] = df_prepared['Color'].astype('category')\n",
        "df_prepared['Transmission'] = df_prepared['Transmission'].astype('category')\n",
        "df_prepared['Nationality'] = df_prepared['Nationality'].astype('category')\n",
        "df_prepared['VNST'] = df_prepared['VNST'].astype('category')\n",
        "df_prepared['VNZIP1'] = df_prepared['VNZIP1'].astype('category')\n",
        "df_prepared['WheelType'] = df_prepared['WheelType'].astype('category')\n",
        "df_prepared['Size'] = df_prepared['Size'].astype('category')\n",
        "df_prepared['TopThreeAmericanName'] = df_prepared['TopThreeAmericanName'].astype('category')"
      ]
    },
    {
      "cell_type": "code",
      "execution_count": 30,
      "metadata": {
        "colab": {
          "base_uri": "https://localhost:8080/"
        },
        "id": "BgSTcTpK247H",
        "outputId": "76a929aa-4880-4919-b04f-2a6ce2f2ce8c"
      },
      "outputs": [
        {
          "data": {
            "text/plain": [
              "dtype('O')"
            ]
          },
          "execution_count": 30,
          "metadata": {},
          "output_type": "execute_result"
        }
      ],
      "source": [
        "df_prepared['PurchDate'].dtype"
      ]
    },
    {
      "cell_type": "markdown",
      "metadata": {
        "id": "hW9R-dGM3Jc5"
      },
      "source": [
        "Как видим 'PurchDate' является типом объект, преобразуем в дату"
      ]
    },
    {
      "cell_type": "code",
      "execution_count": 31,
      "metadata": {
        "colab": {
          "base_uri": "https://localhost:8080/"
        },
        "id": "aGqLlCeX5TrL",
        "outputId": "6b3e0bac-1625-4863-bf1a-84ce5d169f60"
      },
      "outputs": [
        {
          "name": "stdout",
          "output_type": "stream",
          "text": [
            "All dates are valid.\n"
          ]
        }
      ],
      "source": [
        "df_prepared['PurchDate'] = pd.to_datetime(df_prepared['PurchDate'], errors='coerce') #ставим NaT в случае ошибки\n",
        "\n",
        "if df_prepared['PurchDate'].notnull().all():\n",
        "    print(\"All dates are valid.\")\n",
        "else:\n",
        "    print(\"Some dates are invalid.\")"
      ]
    },
    {
      "cell_type": "code",
      "execution_count": 32,
      "metadata": {
        "colab": {
          "base_uri": "https://localhost:8080/"
        },
        "id": "cEEHfYHwun1M",
        "outputId": "fb9455ee-594e-49a0-940e-36192fdb5361"
      },
      "outputs": [
        {
          "name": "stdout",
          "output_type": "stream",
          "text": [
            "<class 'pandas.core.frame.DataFrame'>\n",
            "Int64Index: 72658 entries, 0 to 72982\n",
            "Data columns (total 30 columns):\n",
            " #   Column                             Non-Null Count  Dtype         \n",
            "---  ------                             --------------  -----         \n",
            " 0   IsBadBuy                           72658 non-null  int64         \n",
            " 1   PurchDate                          72658 non-null  datetime64[ns]\n",
            " 2   Auction                            72658 non-null  category      \n",
            " 3   VehYear                            72658 non-null  int64         \n",
            " 4   VehicleAge                         72658 non-null  int64         \n",
            " 5   Make                               72658 non-null  category      \n",
            " 6   Model                              72658 non-null  category      \n",
            " 7   Trim                               72658 non-null  category      \n",
            " 8   SubModel                           72658 non-null  category      \n",
            " 9   Color                              72658 non-null  category      \n",
            " 10  Transmission                       72658 non-null  category      \n",
            " 11  WheelTypeID                        72658 non-null  float64       \n",
            " 12  WheelType                          72658 non-null  category      \n",
            " 13  VehOdo                             72658 non-null  int64         \n",
            " 14  Nationality                        72658 non-null  category      \n",
            " 15  Size                               72658 non-null  category      \n",
            " 16  TopThreeAmericanName               72658 non-null  category      \n",
            " 17  MMRAcquisitionAuctionAveragePrice  72658 non-null  float64       \n",
            " 18  MMRAcquisitionAuctionCleanPrice    72658 non-null  float64       \n",
            " 19  MMRAcquisitionRetailAveragePrice   72658 non-null  float64       \n",
            " 20  MMRAcquisitonRetailCleanPrice      72658 non-null  float64       \n",
            " 21  MMRCurrentAuctionAveragePrice      72658 non-null  float64       \n",
            " 22  MMRCurrentAuctionCleanPrice        72658 non-null  float64       \n",
            " 23  MMRCurrentRetailAveragePrice       72658 non-null  float64       \n",
            " 24  MMRCurrentRetailCleanPrice         72658 non-null  float64       \n",
            " 25  VNZIP1                             72658 non-null  category      \n",
            " 26  VNST                               72658 non-null  category      \n",
            " 27  VehBCost                           72658 non-null  float64       \n",
            " 28  IsOnlineSale                       72658 non-null  int64         \n",
            " 29  WarrantyCost                       72658 non-null  int64         \n",
            "dtypes: category(13), datetime64[ns](1), float64(10), int64(6)\n",
            "memory usage: 11.2 MB\n"
          ]
        }
      ],
      "source": [
        "df_prepared.info()"
      ]
    },
    {
      "cell_type": "code",
      "execution_count": 33,
      "metadata": {
        "id": "jPfoW669CM5C"
      },
      "outputs": [],
      "source": [
        "df_prepared.sort_values(by='PurchDate', inplace=True)"
      ]
    },
    {
      "cell_type": "code",
      "execution_count": 34,
      "metadata": {
        "colab": {
          "base_uri": "https://localhost:8080/"
        },
        "id": "AvRoHp-DDLgy",
        "outputId": "eed4cdfe-15b0-433b-b06e-5aea2885bbda"
      },
      "outputs": [
        {
          "name": "stdout",
          "output_type": "stream",
          "text": [
            "train date from 2009-01-05 00:00:00 to 2009-09-16 00:00:00 size:24340\n",
            "val   date from 2009-09-16 00:00:00 to 2010-05-18 00:00:00 size:24340\n",
            "test  date from 2010-05-18 00:00:00 to 2010-12-30 00:00:00 size:23978\n"
          ]
        }
      ],
      "source": [
        "train_val, test = train_test_split(df_prepared, test_size=0.33, shuffle=False)\n",
        "train, val = train_test_split(train_val, test_size=0.5, shuffle=False)\n",
        "\n",
        "print(f\"train date from {train['PurchDate'].min()} to {train['PurchDate'].max()} size:{train.shape[0]}\")\n",
        "print(f\"val   date from {val['PurchDate'].min()} to {val['PurchDate'].max()} size:{val.shape[0]}\")\n",
        "print(f\"test  date from {test['PurchDate'].min()} to {test['PurchDate'].max()} size:{test.shape[0]}\")"
      ]
    },
    {
      "cell_type": "markdown",
      "metadata": {
        "id": "WwZyq6onGlw_"
      },
      "source": [
        "## 3. Preprocess categorical variables\n",
        "Use LabelEncoder or OneHotEncoder from sklearn to preprocess categorical variables. Be careful with data leakage (fit Encoder on train and apply on validation & test). Consider another encoding approach if you meet new categorical values in valid & test (unseen in the training dataset), for example: https://contrib.scikit-learn.org/category_encoders/count.html"
      ]
    },
    {
      "cell_type": "code",
      "execution_count": 35,
      "metadata": {
        "id": "63-_E4oT68_I"
      },
      "outputs": [],
      "source": [
        "X_train = train.drop(columns=['IsBadBuy', 'PurchDate'], axis=1)\n",
        "y_train = train['IsBadBuy']\n",
        "\n",
        "X_val = val.drop(columns=['IsBadBuy', 'PurchDate'], axis=1)\n",
        "y_val = val['IsBadBuy']\n",
        "\n",
        "X_test = test.drop(columns=['IsBadBuy', 'PurchDate'], axis=1)\n",
        "y_test = test['IsBadBuy']"
      ]
    },
    {
      "cell_type": "markdown",
      "metadata": {
        "id": "u9wDUfGPkga9"
      },
      "source": [
        "**For hot encoder:**  \n",
        "Model  \n",
        "SubModel  \n",
        "Auction  \n",
        "Make  \n",
        "Trim  \n",
        "Color  \n",
        "Transmission  \n",
        "Nationality  \n",
        "VNST  \n",
        "VNZIP1  "
      ]
    },
    {
      "cell_type": "code",
      "execution_count": 36,
      "metadata": {
        "id": "AH9jznzJIWGz"
      },
      "outputs": [],
      "source": [
        "list_ohe_features = ['Model',\n",
        "                    'SubModel',\n",
        "                    'Auction',\n",
        "                    'Make',\n",
        "                    'Trim',\n",
        "                    'Color',\n",
        "                    'Transmission',\n",
        "                    'Nationality',\n",
        "                    'VNST',\n",
        "                    'VNZIP1']\n",
        "encoder = OneHotEncoder(sparse=False, handle_unknown='ignore')\n",
        "\n",
        "encoded = encoder.fit(X_train[list_ohe_features])\n",
        "\n",
        "X_train_ohe = pd.DataFrame(encoder.transform(X_train[list_ohe_features]), columns=encoded.get_feature_names_out())\n",
        "X_train = pd.concat([X_train.reset_index(), X_train_ohe.reset_index()], axis=1).drop(['index'], axis=1)\n",
        "X_train.drop(list_ohe_features, axis=1, inplace=True)\n",
        "\n",
        "X_val_ohe = pd.DataFrame(encoder.transform(X_val[list_ohe_features]), columns=encoded.get_feature_names_out())\n",
        "X_val = pd.concat([X_val.reset_index(), X_val_ohe.reset_index()], axis=1).drop(['index'], axis=1)\n",
        "X_val.drop(list_ohe_features, axis=1, inplace=True)\n",
        "\n",
        "X_test_ohe = pd.DataFrame(encoder.transform(X_test[list_ohe_features]), columns=encoded.get_feature_names_out())\n",
        "X_test = pd.concat([X_test.reset_index(), X_test_ohe.reset_index()], axis=1).drop(['index'], axis=1)\n",
        "X_test.drop(list_ohe_features, axis=1, inplace=True)"
      ]
    },
    {
      "cell_type": "code",
      "execution_count": 37,
      "metadata": {
        "colab": {
          "base_uri": "https://localhost:8080/"
        },
        "id": "Tglhd75lP29y",
        "outputId": "8b630e12-3ce6-4531-b27a-9f82601446fd"
      },
      "outputs": [
        {
          "data": {
            "text/plain": [
              "(24340, 1809)"
            ]
          },
          "execution_count": 37,
          "metadata": {},
          "output_type": "execute_result"
        }
      ],
      "source": [
        "X_train.shape"
      ]
    },
    {
      "cell_type": "markdown",
      "metadata": {
        "id": "jrlv8sQDhVgm"
      },
      "source": [
        "**For label encoder:**  \n",
        "WheelTypeID  \n",
        "WheelType  \n",
        "Size  \n",
        "TopThreeAmericanName  "
      ]
    },
    {
      "cell_type": "code",
      "execution_count": 38,
      "metadata": {
        "colab": {
          "base_uri": "https://localhost:8080/"
        },
        "id": "RxPJaNwLp_Dn",
        "outputId": "1dfa65ac-1027-49a3-f296-2ee906db120b"
      },
      "outputs": [
        {
          "name": "stdout",
          "output_type": "stream",
          "text": [
            "<class 'pandas.core.frame.DataFrame'>\n",
            "RangeIndex: 23978 entries, 0 to 23977\n",
            "Data columns (total 3 columns):\n",
            " #   Column                Non-Null Count  Dtype   \n",
            "---  ------                --------------  -----   \n",
            " 0   WheelType             23978 non-null  category\n",
            " 1   Size                  23978 non-null  category\n",
            " 2   TopThreeAmericanName  23978 non-null  category\n",
            "dtypes: category(3)\n",
            "memory usage: 71.2 KB\n"
          ]
        }
      ],
      "source": [
        "X_test[['WheelType', 'Size', 'TopThreeAmericanName']].info()"
      ]
    },
    {
      "cell_type": "code",
      "execution_count": 39,
      "metadata": {
        "id": "J0p5KXGfolzg"
      },
      "outputs": [],
      "source": [
        "list_le_features = ['WheelType',\n",
        "                    'Size',\n",
        "                    'TopThreeAmericanName']\n",
        "le = LabelEncoder()\n",
        "\n",
        "for f in list_le_features:\n",
        "    le.fit(X_train[f])\n",
        "\n",
        "    X_train[f] = pd.DataFrame(le.transform(X_train[f]))\n",
        "    X_val[f] = pd.DataFrame(le.transform(X_val[f]))\n",
        "    X_test[f] = pd.DataFrame(le.transform(X_test[f]))"
      ]
    },
    {
      "cell_type": "code",
      "execution_count": 40,
      "metadata": {
        "colab": {
          "base_uri": "https://localhost:8080/"
        },
        "id": "qxzb1zLmynsn",
        "outputId": "e022ad39-bac7-423f-d654-7793fe777650"
      },
      "outputs": [
        {
          "data": {
            "text/plain": [
              "2    8468\n",
              "0    8090\n",
              "1    4600\n",
              "3    3182\n",
              "Name: TopThreeAmericanName, dtype: int64"
            ]
          },
          "execution_count": 40,
          "metadata": {},
          "output_type": "execute_result"
        }
      ],
      "source": [
        "X_train['TopThreeAmericanName'].value_counts()"
      ]
    },
    {
      "cell_type": "code",
      "execution_count": 41,
      "metadata": {
        "colab": {
          "base_uri": "https://localhost:8080/"
        },
        "id": "F0P-fvx8-3k7",
        "outputId": "8c121305-45ee-4998-a3d8-55f9c02ffe74"
      },
      "outputs": [
        {
          "data": {
            "text/plain": [
              "(24340, 1809)"
            ]
          },
          "execution_count": 41,
          "metadata": {},
          "output_type": "execute_result"
        }
      ],
      "source": [
        "X_train.shape"
      ]
    },
    {
      "cell_type": "code",
      "execution_count": 42,
      "metadata": {
        "colab": {
          "base_uri": "https://localhost:8080/"
        },
        "id": "eFLp2orY3aQn",
        "outputId": "25626344-bb24-4618-a3d4-393611b573c2"
      },
      "outputs": [
        {
          "name": "stdout",
          "output_type": "stream",
          "text": [
            "<class 'pandas.core.frame.DataFrame'>\n",
            "RangeIndex: 24340 entries, 0 to 24339\n",
            "Columns: 1809 entries, VehYear to VNZIP1_99224\n",
            "dtypes: float64(1801), int64(8)\n",
            "memory usage: 335.9 MB\n"
          ]
        }
      ],
      "source": [
        "X_train.info()"
      ]
    },
    {
      "cell_type": "markdown",
      "metadata": {
        "id": "8jpEb2anzRmv"
      },
      "source": [
        "# 2. Create a Python class for Decision Tree Classifier and Decision Tree Regressor (MSE loss).\n",
        "It should support fit, predict_proba and predict methods. Also, maximal depth (max_depth) must be a parameter of your class. Use Gini impurity criterion as criterion for choice of splitting.\n",
        "Here is the blueprint:  \n",
        "`model = DecisionTreeClassifier(max_depth=7)`  \n",
        "`model.fit(Xtrain, ytrain)`  \n",
        "`model.predict_proba(Xvalid)`\n",
        "\n",
        "- Create a separate class for Node. It should be able to contain data (sample features and targets), compute Gini impurity and have pointers to children (left and right nodes). For Regressor use standard deviation instead of Gini impurity.\n",
        "- Implement a function that finds the best possible split in the current node.\n",
        "- Combine previous steps into your working Decision Tree Classifier.\n",
        "- *Implement extra-randomized tree via designing another function for best-split search."
      ]
    },
    {
      "cell_type": "code",
      "execution_count": 43,
      "metadata": {
        "colab": {
          "base_uri": "https://localhost:8080/"
        },
        "id": "e8EeFqEmGjCC",
        "outputId": "dbcd9eea-8d13-4586-b4ba-5fe3784d093e"
      },
      "outputs": [
        {
          "data": {
            "text/plain": [
              "0.8835250616269515"
            ]
          },
          "execution_count": 43,
          "metadata": {},
          "output_type": "execute_result"
        }
      ],
      "source": [
        "tree = DecisionTreeClassifier(max_depth=5)\n",
        "tree.fit(X_train.iloc[:, :300], y_train)\n",
        "accuracy_score(y_val, tree.predict(X_val.iloc[:, :300]))"
      ]
    },
    {
      "cell_type": "code",
      "execution_count": 43,
      "metadata": {
        "id": "sgkHC_3Cx8KO"
      },
      "outputs": [],
      "source": []
    },
    {
      "cell_type": "code",
      "execution_count": 44,
      "metadata": {
        "id": "uO66CgJPOA1N"
      },
      "outputs": [],
      "source": [
        "class Node:\n",
        "    def __init__(self, data=None, feature_idx=None, threshold=None, left=None, right=None, info_gain=None, var_red=None, leaf_ter=None, target=None) -> None:\n",
        "        self.feature_idx = feature_idx\n",
        "        self.threshold = threshold\n",
        "        self.data = data\n",
        "        self.left = left\n",
        "        self.right = right\n",
        "        self.info_gain = info_gain\n",
        "        self.var_red = var_red\n",
        "        self.leaf_ter = leaf_ter\n",
        "        self.target = target\n",
        "\n",
        "    def gini_impurity(self):\n",
        "        data_i = self._calc_impurity(self.data)\n",
        "        left_i = self._calc_impurity(self.left)\n",
        "        right_i = self._calc_impurity(self.right)\n",
        "        w_l = len(self.left) / len(self.data)\n",
        "        w_r = len(self.right) / len(self.data)\n",
        "        return data_i - (w_l*left_i + w_r*right_i)\n",
        "\n",
        "    def _calc_impurity(self, y):\n",
        "        class_lables = np.unique(y)\n",
        "        gini = 0\n",
        "\n",
        "        for lable in class_lables:\n",
        "            p_lable = len(y[y==lable]) / len(y)\n",
        "            gini += p_lable**2\n",
        "        return 1 - gini\n",
        "\n",
        "    def var_reduction(self):\n",
        "        w_l = len(self.left) / len(self.data)\n",
        "        w_r = len(self.right) / len(self.data)\n",
        "        return np.var(self.data) - (w_l*np.var(self.left) + w_r*np.var(self.right))\n"
      ]
    },
    {
      "cell_type": "code",
      "execution_count": 65,
      "metadata": {
        "id": "IlyqnMpZ-MxU"
      },
      "outputs": [],
      "source": [
        "class MyDTC():\n",
        "    def __init__(self, max_depth = 2) -> None:\n",
        "        self.max_depth = max_depth\n",
        "        self.tree = None\n",
        "\n",
        "\n",
        "    def fit(self, X: np.array, y: np.array) -> None:\n",
        "        data = np.concatenate((X, y), axis=1)\n",
        "\n",
        "        self.tree = self._build_tree(data)\n",
        "\n",
        "\n",
        "    def predict(self, X: np.array) -> np.array:\n",
        "        preds = [self._make_pred(self.tree, x) for x in X]\n",
        "\n",
        "        return preds\n",
        "\n",
        "\n",
        "    def _build_tree(self, data: np.array, curr_depth = 0):\n",
        "        X, y = data[:, :-1], data[:,-1]\n",
        "        n_samples, n_features = X.shape\n",
        "\n",
        "        if n_samples > 0 and curr_depth < self.max_depth:\n",
        "            best_split = self._make_best_split(data, n_samples, n_features)\n",
        "\n",
        "            if 'max_ig' in best_split and best_split['max_ig'] > 0:\n",
        "                tree_l = self._build_tree(best_split['best_data_l'], curr_depth+1)\n",
        "                tree_r = self._build_tree(best_split['best_data_r'], curr_depth+1)\n",
        "\n",
        "                return Node(feature_idx=best_split['best_f_idx'], left=tree_l, right=tree_r, target=y,\n",
        "                            info_gain=best_split['max_ig'], threshold=best_split['best_thr'])\n",
        "\n",
        "        leaf_value = max(list(y), key=list(y).count)\n",
        "        return Node(leaf_ter=leaf_value, target=y)\n",
        "\n",
        "\n",
        "    def _make_best_split(self, data, n_samples, n_features):\n",
        "        best_split = {}\n",
        "        max_ig = -float('inf')\n",
        "\n",
        "        for f_idx in tqdm(range(n_features)):\n",
        "            f_vals = data[:f_idx]\n",
        "            possible_thresholds = np.unique(f_vals)\n",
        "\n",
        "            for thr in possible_thresholds:\n",
        "                data_l, data_r = self._split(data, f_idx, thr)\n",
        "                if len(data_l) > 0 and len(data_r) > 0:\n",
        "                    y, y_l, y_r = data[:,-1], data_l[:,-1],data_r[:,-1]\n",
        "                    curr_ig = Node(data=y, left=y_l, right=y_r).gini_impurity()\n",
        "\n",
        "                    if curr_ig > max_ig:\n",
        "                        best_split['best_f_idx'] = f_idx\n",
        "                        best_split['best_thr'] = thr\n",
        "                        best_split['best_data_l'] = data_l\n",
        "                        best_split['best_data_r'] = data_r\n",
        "                        best_split['max_ig'] = curr_ig\n",
        "                        max_ig = curr_ig\n",
        "\n",
        "        return best_split\n",
        "\n",
        "\n",
        "\n",
        "    def _split(self, data, f_idx, thr):\n",
        "        data_l = np.array([r for r in data if r[f_idx] <= thr])\n",
        "        data_r = np.array([r for r in data if r[f_idx] > thr])\n",
        "\n",
        "        return data_l, data_r\n",
        "\n",
        "\n",
        "    def _make_pred(self, node, x):\n",
        "        if node.leaf_ter != None:\n",
        "            return node.leaf_ter\n",
        "        feature_value = x[node.feature_idx]\n",
        "        if feature_value <= node.threshold:\n",
        "            return self._make_pred(node.left, x)\n",
        "        else:\n",
        "            return self._make_pred(node.right, x)\n",
        "\n",
        "\n",
        "    def predict_proba(self, X: np.array) -> np.array:\n",
        "        probabilities = np.zeros((X.shape[0], len(np.unique(self.tree.target))))\n",
        "        for i, x in enumerate(X):\n",
        "            probabilities[i] = self._predict_proba(self.tree, x)\n",
        "        return probabilities\n",
        "\n",
        "    def _predict_proba(self, node, x):\n",
        "        if node.leaf_ter is not None:\n",
        "            class_labels = np.unique(node.target)\n",
        "            class_counts = np.bincount(node.target.astype(int))\n",
        "            return class_counts / len(node.target)\n",
        "        else:\n",
        "            if x[node.feature_idx] <= node.threshold:\n",
        "                return self._predict_proba(node.left, x)\n",
        "            else:\n",
        "                return self._predict_proba(node.right, x)\n"
      ]
    },
    {
      "cell_type": "code",
      "execution_count": 46,
      "metadata": {
        "id": "XEJA5Oz-TOwX"
      },
      "outputs": [],
      "source": [
        "class MyDTR():\n",
        "    def __init__(self, max_depth = 2) -> None:\n",
        "        self.max_depth = max_depth\n",
        "        self.tree = None\n",
        "\n",
        "\n",
        "    def fit(self, X: np.array, y: np.array) -> None:\n",
        "        data = np.concatenate((X, y), axis=1)\n",
        "\n",
        "        self.tree = self._build_tree(data)\n",
        "\n",
        "\n",
        "    def predict(self, X: np.array) -> np.array:\n",
        "        preds = [self._make_pred(self.tree, x) for x in X]\n",
        "\n",
        "        return preds\n",
        "\n",
        "\n",
        "    def _build_tree(self, data: np.array, curr_depth = 0):\n",
        "        X, y = data[:, :-1], data[:,-1]\n",
        "        n_samples, n_features = X.shape\n",
        "\n",
        "        if n_samples > 0 and curr_depth < self.max_depth:\n",
        "            best_split = self._make_best_split(data, n_samples, n_features)\n",
        "\n",
        "            if 'max_red' in best_split and best_split['max_red'] > 0:\n",
        "                tree_l = self._build_tree(best_split['best_data_l'], curr_depth+1)\n",
        "                tree_r = self._build_tree(best_split['best_data_r'], curr_depth+1)\n",
        "\n",
        "                return Node(feature_idx=best_split['best_f_idx'], left=tree_l, right=tree_r, target=y,\n",
        "                            var_red=best_split['max_red'], threshold=best_split['best_thr'])\n",
        "\n",
        "        leaf_value = np.mean(y)\n",
        "        return Node(leaf_ter=leaf_value, target=y)\n",
        "\n",
        "\n",
        "    def _make_best_split(self, data, n_samples, n_features):\n",
        "        best_split = {}\n",
        "        max_red = -float('inf')\n",
        "\n",
        "        for f_idx in tqdm(range(n_features)):\n",
        "            f_vals = data[:f_idx]\n",
        "            possible_thresholds = np.unique(f_vals)\n",
        "\n",
        "            for thr in possible_thresholds:\n",
        "                data_l, data_r = self._split(data, f_idx, thr)\n",
        "                if len(data_l) > 0 and len(data_r) > 0:\n",
        "                    y, y_l, y_r = data[:,-1], data_l[:,-1],data_r[:,-1]\n",
        "                    curr_red = Node(data=y, left=y_l, right=y_r).var_reduction()\n",
        "\n",
        "                    if curr_red > max_red:\n",
        "                        best_split['best_f_idx'] = f_idx\n",
        "                        best_split['best_thr'] = thr\n",
        "                        best_split['best_data_l'] = data_l\n",
        "                        best_split['best_data_r'] = data_r\n",
        "                        best_split['max_red'] = curr_red\n",
        "                        max_red = curr_red\n",
        "\n",
        "        return best_split\n",
        "\n",
        "\n",
        "\n",
        "    def _split(self, data, f_idx, thr):\n",
        "        data_l = np.array([r for r in data if r[f_idx] <= thr])\n",
        "        data_r = np.array([r for r in data if r[f_idx] > thr])\n",
        "\n",
        "        return data_l, data_r\n",
        "\n",
        "\n",
        "    def _make_pred(self, node, x):\n",
        "        if node.leaf_ter != None:\n",
        "            return node.leaf_ter\n",
        "        feature_value = x[node.feature_idx]\n",
        "        if feature_value <= node.threshold:\n",
        "            return self._make_pred(node.left, x)\n",
        "        else:\n",
        "            return self._make_pred(node.right, x)\n",
        "\n",
        "\n",
        "    def predict_proba(self, X: np.array) -> np.array:\n",
        "        probabilities = np.zeros((X.shape[0], len(np.unique(self.tree.target))))\n",
        "        for i, x in enumerate(X):\n",
        "            probabilities[i] = self._predict_proba(self.tree, x)\n",
        "        return probabilities\n",
        "\n",
        "    def _predict_proba(self, node, x):\n",
        "        if node.leaf_ter is not None:\n",
        "            class_labels = np.unique(node.target)\n",
        "            class_counts = np.bincount(node.target.astype(int))\n",
        "            return class_counts / len(node.target)\n",
        "        else:\n",
        "            if x[node.feature_idx] <= node.threshold:\n",
        "                return self._predict_proba(node.left, x)\n",
        "            else:\n",
        "                return self._predict_proba(node.right, x)"
      ]
    },
    {
      "cell_type": "code",
      "execution_count": 47,
      "metadata": {
        "colab": {
          "base_uri": "https://localhost:8080/"
        },
        "id": "qqtw9UATWBcI",
        "outputId": "e92932e3-2619-460e-9e23-1488b1064fe9"
      },
      "outputs": [
        {
          "name": "stderr",
          "output_type": "stream",
          "text": [
            "100%|██████████| 4/4 [00:00<00:00,  8.09it/s]\n",
            "100%|██████████| 4/4 [00:00<00:00, 204.94it/s]\n",
            "100%|██████████| 4/4 [00:00<00:00, 644.24it/s]\n",
            "100%|██████████| 4/4 [00:00<00:00, 247.04it/s]\n",
            "100%|██████████| 4/4 [00:00<00:00,  8.51it/s]\n",
            "100%|██████████| 4/4 [00:00<00:00, 11.12it/s]\n",
            "100%|██████████| 4/4 [00:00<00:00, 43.93it/s]\n"
          ]
        }
      ],
      "source": [
        "cl = MyDTR(max_depth=3)\n",
        "cl.fit(X_train.iloc[:,:4].values, X_train.iloc[:,4].values.reshape(-1,1))"
      ]
    },
    {
      "cell_type": "code",
      "execution_count": 48,
      "metadata": {
        "colab": {
          "base_uri": "https://localhost:8080/"
        },
        "id": "bFbKrtVQZkTC",
        "outputId": "56ff1772-ee8c-46a3-ff7c-ab4cd38a9b2c"
      },
      "outputs": [
        {
          "data": {
            "text/plain": [
              "13253.895289942155"
            ]
          },
          "execution_count": 48,
          "metadata": {},
          "output_type": "execute_result"
        }
      ],
      "source": [
        "np.sqrt(mean_squared_error(X_val.iloc[:,4], cl.predict(X_val.iloc[:,:4].values)))"
      ]
    },
    {
      "cell_type": "code",
      "execution_count": 48,
      "metadata": {
        "id": "x-rvVi63WBYN"
      },
      "outputs": [],
      "source": []
    },
    {
      "cell_type": "code",
      "execution_count": 49,
      "metadata": {
        "colab": {
          "base_uri": "https://localhost:8080/",
          "height": 75
        },
        "id": "mbdzHYzAUthe",
        "outputId": "396eb493-732c-46ee-b5f0-ca6c094a7d1c"
      },
      "outputs": [
        {
          "data": {
            "text/html": [
              "<style>#sk-container-id-1 {color: black;background-color: white;}#sk-container-id-1 pre{padding: 0;}#sk-container-id-1 div.sk-toggleable {background-color: white;}#sk-container-id-1 label.sk-toggleable__label {cursor: pointer;display: block;width: 100%;margin-bottom: 0;padding: 0.3em;box-sizing: border-box;text-align: center;}#sk-container-id-1 label.sk-toggleable__label-arrow:before {content: \"▸\";float: left;margin-right: 0.25em;color: #696969;}#sk-container-id-1 label.sk-toggleable__label-arrow:hover:before {color: black;}#sk-container-id-1 div.sk-estimator:hover label.sk-toggleable__label-arrow:before {color: black;}#sk-container-id-1 div.sk-toggleable__content {max-height: 0;max-width: 0;overflow: hidden;text-align: left;background-color: #f0f8ff;}#sk-container-id-1 div.sk-toggleable__content pre {margin: 0.2em;color: black;border-radius: 0.25em;background-color: #f0f8ff;}#sk-container-id-1 input.sk-toggleable__control:checked~div.sk-toggleable__content {max-height: 200px;max-width: 100%;overflow: auto;}#sk-container-id-1 input.sk-toggleable__control:checked~label.sk-toggleable__label-arrow:before {content: \"▾\";}#sk-container-id-1 div.sk-estimator input.sk-toggleable__control:checked~label.sk-toggleable__label {background-color: #d4ebff;}#sk-container-id-1 div.sk-label input.sk-toggleable__control:checked~label.sk-toggleable__label {background-color: #d4ebff;}#sk-container-id-1 input.sk-hidden--visually {border: 0;clip: rect(1px 1px 1px 1px);clip: rect(1px, 1px, 1px, 1px);height: 1px;margin: -1px;overflow: hidden;padding: 0;position: absolute;width: 1px;}#sk-container-id-1 div.sk-estimator {font-family: monospace;background-color: #f0f8ff;border: 1px dotted black;border-radius: 0.25em;box-sizing: border-box;margin-bottom: 0.5em;}#sk-container-id-1 div.sk-estimator:hover {background-color: #d4ebff;}#sk-container-id-1 div.sk-parallel-item::after {content: \"\";width: 100%;border-bottom: 1px solid gray;flex-grow: 1;}#sk-container-id-1 div.sk-label:hover label.sk-toggleable__label {background-color: #d4ebff;}#sk-container-id-1 div.sk-serial::before {content: \"\";position: absolute;border-left: 1px solid gray;box-sizing: border-box;top: 0;bottom: 0;left: 50%;z-index: 0;}#sk-container-id-1 div.sk-serial {display: flex;flex-direction: column;align-items: center;background-color: white;padding-right: 0.2em;padding-left: 0.2em;position: relative;}#sk-container-id-1 div.sk-item {position: relative;z-index: 1;}#sk-container-id-1 div.sk-parallel {display: flex;align-items: stretch;justify-content: center;background-color: white;position: relative;}#sk-container-id-1 div.sk-item::before, #sk-container-id-1 div.sk-parallel-item::before {content: \"\";position: absolute;border-left: 1px solid gray;box-sizing: border-box;top: 0;bottom: 0;left: 50%;z-index: -1;}#sk-container-id-1 div.sk-parallel-item {display: flex;flex-direction: column;z-index: 1;position: relative;background-color: white;}#sk-container-id-1 div.sk-parallel-item:first-child::after {align-self: flex-end;width: 50%;}#sk-container-id-1 div.sk-parallel-item:last-child::after {align-self: flex-start;width: 50%;}#sk-container-id-1 div.sk-parallel-item:only-child::after {width: 0;}#sk-container-id-1 div.sk-dashed-wrapped {border: 1px dashed gray;margin: 0 0.4em 0.5em 0.4em;box-sizing: border-box;padding-bottom: 0.4em;background-color: white;}#sk-container-id-1 div.sk-label label {font-family: monospace;font-weight: bold;display: inline-block;line-height: 1.2em;}#sk-container-id-1 div.sk-label-container {text-align: center;}#sk-container-id-1 div.sk-container {/* jupyter's `normalize.less` sets `[hidden] { display: none; }` but bootstrap.min.css set `[hidden] { display: none !important; }` so we also need the `!important` here to be able to override the default hidden behavior on the sphinx rendered scikit-learn.org. See: https://github.com/scikit-learn/scikit-learn/issues/21755 */display: inline-block !important;position: relative;}#sk-container-id-1 div.sk-text-repr-fallback {display: none;}</style><div id=\"sk-container-id-1\" class=\"sk-top-container\"><div class=\"sk-text-repr-fallback\"><pre>DecisionTreeRegressor(max_depth=3)</pre><b>In a Jupyter environment, please rerun this cell to show the HTML representation or trust the notebook. <br />On GitHub, the HTML representation is unable to render, please try loading this page with nbviewer.org.</b></div><div class=\"sk-container\" hidden><div class=\"sk-item\"><div class=\"sk-estimator sk-toggleable\"><input class=\"sk-toggleable__control sk-hidden--visually\" id=\"sk-estimator-id-1\" type=\"checkbox\" checked><label for=\"sk-estimator-id-1\" class=\"sk-toggleable__label sk-toggleable__label-arrow\">DecisionTreeRegressor</label><div class=\"sk-toggleable__content\"><pre>DecisionTreeRegressor(max_depth=3)</pre></div></div></div></div></div>"
            ],
            "text/plain": [
              "DecisionTreeRegressor(max_depth=3)"
            ]
          },
          "execution_count": 49,
          "metadata": {},
          "output_type": "execute_result"
        }
      ],
      "source": [
        "clf = DecisionTreeRegressor(max_depth=3, criterion='squared_error')\n",
        "clf.fit(X_train.iloc[:,:4], X_train.iloc[:,4])"
      ]
    },
    {
      "cell_type": "code",
      "execution_count": 50,
      "metadata": {
        "colab": {
          "base_uri": "https://localhost:8080/"
        },
        "id": "k0XyC4lPVaJS",
        "outputId": "c89aa6dd-8481-4299-fade-21c1710a3e27"
      },
      "outputs": [
        {
          "data": {
            "text/plain": [
              "13175.307700153746"
            ]
          },
          "execution_count": 50,
          "metadata": {},
          "output_type": "execute_result"
        }
      ],
      "source": [
        "np.sqrt(mean_squared_error(X_val.iloc[:,4], clf.predict(X_val.iloc[:,:4].values)))"
      ]
    },
    {
      "cell_type": "code",
      "execution_count": 51,
      "metadata": {
        "colab": {
          "base_uri": "https://localhost:8080/",
          "height": 424
        },
        "id": "zeZ8Q2HWUtfF",
        "outputId": "779a33d4-b00b-45fb-c5b4-5796036ea157"
      },
      "outputs": [
        {
          "data": {
            "application/vnd.google.colaboratory.intrinsic+json": {
              "summary": "{\n  \"name\": \"X_train\",\n  \"rows\": 24340,\n  \"fields\": [\n    {\n      \"column\": \"VehYear\",\n      \"properties\": {\n        \"dtype\": \"number\",\n        \"std\": 1,\n        \"min\": 2001,\n        \"max\": 2008,\n        \"num_unique_values\": 8,\n        \"samples\": [\n          2006,\n          2002,\n          2004\n        ],\n        \"semantic_type\": \"\",\n        \"description\": \"\"\n      }\n    },\n    {\n      \"column\": \"VehicleAge\",\n      \"properties\": {\n        \"dtype\": \"number\",\n        \"std\": 1,\n        \"min\": 1,\n        \"max\": 8,\n        \"num_unique_values\": 8,\n        \"samples\": [\n          3,\n          7,\n          5\n        ],\n        \"semantic_type\": \"\",\n        \"description\": \"\"\n      }\n    },\n    {\n      \"column\": \"WheelTypeID\",\n      \"properties\": {\n        \"dtype\": \"number\",\n        \"std\": 0.6947289016301238,\n        \"min\": -1.0,\n        \"max\": 3.0,\n        \"num_unique_values\": 4,\n        \"samples\": [\n          2.0,\n          3.0,\n          1.0\n        ],\n        \"semantic_type\": \"\",\n        \"description\": \"\"\n      }\n    },\n    {\n      \"column\": \"WheelType\",\n      \"properties\": {\n        \"dtype\": \"number\",\n        \"std\": 0,\n        \"min\": 0,\n        \"max\": 3,\n        \"num_unique_values\": 4,\n        \"samples\": [\n          1,\n          2,\n          0\n        ],\n        \"semantic_type\": \"\",\n        \"description\": \"\"\n      }\n    }\n  ]\n}",
              "type": "dataframe"
            },
            "text/html": [
              "\n",
              "  <div id=\"df-b846022f-4dee-44d3-899f-2714d423cc03\" class=\"colab-df-container\">\n",
              "    <div>\n",
              "<style scoped>\n",
              "    .dataframe tbody tr th:only-of-type {\n",
              "        vertical-align: middle;\n",
              "    }\n",
              "\n",
              "    .dataframe tbody tr th {\n",
              "        vertical-align: top;\n",
              "    }\n",
              "\n",
              "    .dataframe thead th {\n",
              "        text-align: right;\n",
              "    }\n",
              "</style>\n",
              "<table border=\"1\" class=\"dataframe\">\n",
              "  <thead>\n",
              "    <tr style=\"text-align: right;\">\n",
              "      <th></th>\n",
              "      <th>VehYear</th>\n",
              "      <th>VehicleAge</th>\n",
              "      <th>WheelTypeID</th>\n",
              "      <th>WheelType</th>\n",
              "    </tr>\n",
              "  </thead>\n",
              "  <tbody>\n",
              "    <tr>\n",
              "      <th>0</th>\n",
              "      <td>2004</td>\n",
              "      <td>5</td>\n",
              "      <td>1.0</td>\n",
              "      <td>0</td>\n",
              "    </tr>\n",
              "    <tr>\n",
              "      <th>1</th>\n",
              "      <td>2004</td>\n",
              "      <td>5</td>\n",
              "      <td>1.0</td>\n",
              "      <td>0</td>\n",
              "    </tr>\n",
              "    <tr>\n",
              "      <th>2</th>\n",
              "      <td>2006</td>\n",
              "      <td>3</td>\n",
              "      <td>1.0</td>\n",
              "      <td>0</td>\n",
              "    </tr>\n",
              "    <tr>\n",
              "      <th>3</th>\n",
              "      <td>2005</td>\n",
              "      <td>4</td>\n",
              "      <td>1.0</td>\n",
              "      <td>0</td>\n",
              "    </tr>\n",
              "    <tr>\n",
              "      <th>4</th>\n",
              "      <td>2003</td>\n",
              "      <td>6</td>\n",
              "      <td>1.0</td>\n",
              "      <td>0</td>\n",
              "    </tr>\n",
              "    <tr>\n",
              "      <th>...</th>\n",
              "      <td>...</td>\n",
              "      <td>...</td>\n",
              "      <td>...</td>\n",
              "      <td>...</td>\n",
              "    </tr>\n",
              "    <tr>\n",
              "      <th>24335</th>\n",
              "      <td>2002</td>\n",
              "      <td>7</td>\n",
              "      <td>2.0</td>\n",
              "      <td>1</td>\n",
              "    </tr>\n",
              "    <tr>\n",
              "      <th>24336</th>\n",
              "      <td>2004</td>\n",
              "      <td>5</td>\n",
              "      <td>1.0</td>\n",
              "      <td>0</td>\n",
              "    </tr>\n",
              "    <tr>\n",
              "      <th>24337</th>\n",
              "      <td>2003</td>\n",
              "      <td>6</td>\n",
              "      <td>2.0</td>\n",
              "      <td>1</td>\n",
              "    </tr>\n",
              "    <tr>\n",
              "      <th>24338</th>\n",
              "      <td>2003</td>\n",
              "      <td>6</td>\n",
              "      <td>2.0</td>\n",
              "      <td>1</td>\n",
              "    </tr>\n",
              "    <tr>\n",
              "      <th>24339</th>\n",
              "      <td>2004</td>\n",
              "      <td>5</td>\n",
              "      <td>3.0</td>\n",
              "      <td>2</td>\n",
              "    </tr>\n",
              "  </tbody>\n",
              "</table>\n",
              "<p>24340 rows × 4 columns</p>\n",
              "</div>\n",
              "    <div class=\"colab-df-buttons\">\n",
              "\n",
              "  <div class=\"colab-df-container\">\n",
              "    <button class=\"colab-df-convert\" onclick=\"convertToInteractive('df-b846022f-4dee-44d3-899f-2714d423cc03')\"\n",
              "            title=\"Convert this dataframe to an interactive table.\"\n",
              "            style=\"display:none;\">\n",
              "\n",
              "  <svg xmlns=\"http://www.w3.org/2000/svg\" height=\"24px\" viewBox=\"0 -960 960 960\">\n",
              "    <path d=\"M120-120v-720h720v720H120Zm60-500h600v-160H180v160Zm220 220h160v-160H400v160Zm0 220h160v-160H400v160ZM180-400h160v-160H180v160Zm440 0h160v-160H620v160ZM180-180h160v-160H180v160Zm440 0h160v-160H620v160Z\"/>\n",
              "  </svg>\n",
              "    </button>\n",
              "\n",
              "  <style>\n",
              "    .colab-df-container {\n",
              "      display:flex;\n",
              "      gap: 12px;\n",
              "    }\n",
              "\n",
              "    .colab-df-convert {\n",
              "      background-color: #E8F0FE;\n",
              "      border: none;\n",
              "      border-radius: 50%;\n",
              "      cursor: pointer;\n",
              "      display: none;\n",
              "      fill: #1967D2;\n",
              "      height: 32px;\n",
              "      padding: 0 0 0 0;\n",
              "      width: 32px;\n",
              "    }\n",
              "\n",
              "    .colab-df-convert:hover {\n",
              "      background-color: #E2EBFA;\n",
              "      box-shadow: 0px 1px 2px rgba(60, 64, 67, 0.3), 0px 1px 3px 1px rgba(60, 64, 67, 0.15);\n",
              "      fill: #174EA6;\n",
              "    }\n",
              "\n",
              "    .colab-df-buttons div {\n",
              "      margin-bottom: 4px;\n",
              "    }\n",
              "\n",
              "    [theme=dark] .colab-df-convert {\n",
              "      background-color: #3B4455;\n",
              "      fill: #D2E3FC;\n",
              "    }\n",
              "\n",
              "    [theme=dark] .colab-df-convert:hover {\n",
              "      background-color: #434B5C;\n",
              "      box-shadow: 0px 1px 3px 1px rgba(0, 0, 0, 0.15);\n",
              "      filter: drop-shadow(0px 1px 2px rgba(0, 0, 0, 0.3));\n",
              "      fill: #FFFFFF;\n",
              "    }\n",
              "  </style>\n",
              "\n",
              "    <script>\n",
              "      const buttonEl =\n",
              "        document.querySelector('#df-b846022f-4dee-44d3-899f-2714d423cc03 button.colab-df-convert');\n",
              "      buttonEl.style.display =\n",
              "        google.colab.kernel.accessAllowed ? 'block' : 'none';\n",
              "\n",
              "      async function convertToInteractive(key) {\n",
              "        const element = document.querySelector('#df-b846022f-4dee-44d3-899f-2714d423cc03');\n",
              "        const dataTable =\n",
              "          await google.colab.kernel.invokeFunction('convertToInteractive',\n",
              "                                                    [key], {});\n",
              "        if (!dataTable) return;\n",
              "\n",
              "        const docLinkHtml = 'Like what you see? Visit the ' +\n",
              "          '<a target=\"_blank\" href=https://colab.research.google.com/notebooks/data_table.ipynb>data table notebook</a>'\n",
              "          + ' to learn more about interactive tables.';\n",
              "        element.innerHTML = '';\n",
              "        dataTable['output_type'] = 'display_data';\n",
              "        await google.colab.output.renderOutput(dataTable, element);\n",
              "        const docLink = document.createElement('div');\n",
              "        docLink.innerHTML = docLinkHtml;\n",
              "        element.appendChild(docLink);\n",
              "      }\n",
              "    </script>\n",
              "  </div>\n",
              "\n",
              "\n",
              "<div id=\"df-cf1349c2-01cc-43f6-927a-3c80a502eef3\">\n",
              "  <button class=\"colab-df-quickchart\" onclick=\"quickchart('df-cf1349c2-01cc-43f6-927a-3c80a502eef3')\"\n",
              "            title=\"Suggest charts\"\n",
              "            style=\"display:none;\">\n",
              "\n",
              "<svg xmlns=\"http://www.w3.org/2000/svg\" height=\"24px\"viewBox=\"0 0 24 24\"\n",
              "     width=\"24px\">\n",
              "    <g>\n",
              "        <path d=\"M19 3H5c-1.1 0-2 .9-2 2v14c0 1.1.9 2 2 2h14c1.1 0 2-.9 2-2V5c0-1.1-.9-2-2-2zM9 17H7v-7h2v7zm4 0h-2V7h2v10zm4 0h-2v-4h2v4z\"/>\n",
              "    </g>\n",
              "</svg>\n",
              "  </button>\n",
              "\n",
              "<style>\n",
              "  .colab-df-quickchart {\n",
              "      --bg-color: #E8F0FE;\n",
              "      --fill-color: #1967D2;\n",
              "      --hover-bg-color: #E2EBFA;\n",
              "      --hover-fill-color: #174EA6;\n",
              "      --disabled-fill-color: #AAA;\n",
              "      --disabled-bg-color: #DDD;\n",
              "  }\n",
              "\n",
              "  [theme=dark] .colab-df-quickchart {\n",
              "      --bg-color: #3B4455;\n",
              "      --fill-color: #D2E3FC;\n",
              "      --hover-bg-color: #434B5C;\n",
              "      --hover-fill-color: #FFFFFF;\n",
              "      --disabled-bg-color: #3B4455;\n",
              "      --disabled-fill-color: #666;\n",
              "  }\n",
              "\n",
              "  .colab-df-quickchart {\n",
              "    background-color: var(--bg-color);\n",
              "    border: none;\n",
              "    border-radius: 50%;\n",
              "    cursor: pointer;\n",
              "    display: none;\n",
              "    fill: var(--fill-color);\n",
              "    height: 32px;\n",
              "    padding: 0;\n",
              "    width: 32px;\n",
              "  }\n",
              "\n",
              "  .colab-df-quickchart:hover {\n",
              "    background-color: var(--hover-bg-color);\n",
              "    box-shadow: 0 1px 2px rgba(60, 64, 67, 0.3), 0 1px 3px 1px rgba(60, 64, 67, 0.15);\n",
              "    fill: var(--button-hover-fill-color);\n",
              "  }\n",
              "\n",
              "  .colab-df-quickchart-complete:disabled,\n",
              "  .colab-df-quickchart-complete:disabled:hover {\n",
              "    background-color: var(--disabled-bg-color);\n",
              "    fill: var(--disabled-fill-color);\n",
              "    box-shadow: none;\n",
              "  }\n",
              "\n",
              "  .colab-df-spinner {\n",
              "    border: 2px solid var(--fill-color);\n",
              "    border-color: transparent;\n",
              "    border-bottom-color: var(--fill-color);\n",
              "    animation:\n",
              "      spin 1s steps(1) infinite;\n",
              "  }\n",
              "\n",
              "  @keyframes spin {\n",
              "    0% {\n",
              "      border-color: transparent;\n",
              "      border-bottom-color: var(--fill-color);\n",
              "      border-left-color: var(--fill-color);\n",
              "    }\n",
              "    20% {\n",
              "      border-color: transparent;\n",
              "      border-left-color: var(--fill-color);\n",
              "      border-top-color: var(--fill-color);\n",
              "    }\n",
              "    30% {\n",
              "      border-color: transparent;\n",
              "      border-left-color: var(--fill-color);\n",
              "      border-top-color: var(--fill-color);\n",
              "      border-right-color: var(--fill-color);\n",
              "    }\n",
              "    40% {\n",
              "      border-color: transparent;\n",
              "      border-right-color: var(--fill-color);\n",
              "      border-top-color: var(--fill-color);\n",
              "    }\n",
              "    60% {\n",
              "      border-color: transparent;\n",
              "      border-right-color: var(--fill-color);\n",
              "    }\n",
              "    80% {\n",
              "      border-color: transparent;\n",
              "      border-right-color: var(--fill-color);\n",
              "      border-bottom-color: var(--fill-color);\n",
              "    }\n",
              "    90% {\n",
              "      border-color: transparent;\n",
              "      border-bottom-color: var(--fill-color);\n",
              "    }\n",
              "  }\n",
              "</style>\n",
              "\n",
              "  <script>\n",
              "    async function quickchart(key) {\n",
              "      const quickchartButtonEl =\n",
              "        document.querySelector('#' + key + ' button');\n",
              "      quickchartButtonEl.disabled = true;  // To prevent multiple clicks.\n",
              "      quickchartButtonEl.classList.add('colab-df-spinner');\n",
              "      try {\n",
              "        const charts = await google.colab.kernel.invokeFunction(\n",
              "            'suggestCharts', [key], {});\n",
              "      } catch (error) {\n",
              "        console.error('Error during call to suggestCharts:', error);\n",
              "      }\n",
              "      quickchartButtonEl.classList.remove('colab-df-spinner');\n",
              "      quickchartButtonEl.classList.add('colab-df-quickchart-complete');\n",
              "    }\n",
              "    (() => {\n",
              "      let quickchartButtonEl =\n",
              "        document.querySelector('#df-cf1349c2-01cc-43f6-927a-3c80a502eef3 button');\n",
              "      quickchartButtonEl.style.display =\n",
              "        google.colab.kernel.accessAllowed ? 'block' : 'none';\n",
              "    })();\n",
              "  </script>\n",
              "</div>\n",
              "    </div>\n",
              "  </div>\n"
            ],
            "text/plain": [
              "       VehYear  VehicleAge  WheelTypeID  WheelType\n",
              "0         2004           5          1.0          0\n",
              "1         2004           5          1.0          0\n",
              "2         2006           3          1.0          0\n",
              "3         2005           4          1.0          0\n",
              "4         2003           6          1.0          0\n",
              "...        ...         ...          ...        ...\n",
              "24335     2002           7          2.0          1\n",
              "24336     2004           5          1.0          0\n",
              "24337     2003           6          2.0          1\n",
              "24338     2003           6          2.0          1\n",
              "24339     2004           5          3.0          2\n",
              "\n",
              "[24340 rows x 4 columns]"
            ]
          },
          "execution_count": 51,
          "metadata": {},
          "output_type": "execute_result"
        }
      ],
      "source": [
        "X_train.iloc[:,:4]"
      ]
    },
    {
      "cell_type": "markdown",
      "metadata": {
        "id": "tZg0O7qhaU5k"
      },
      "source": [
        "# 3. With your DecisionTree module you have to receive at least 0.1 Gini score on the validation dataset."
      ]
    },
    {
      "cell_type": "code",
      "execution_count": 52,
      "metadata": {
        "colab": {
          "base_uri": "https://localhost:8080/"
        },
        "id": "V1nyb58b-Mup",
        "outputId": "3510b273-00e4-4a42-bcee-0220e4a22d65"
      },
      "outputs": [
        {
          "name": "stderr",
          "output_type": "stream",
          "text": [
            "100%|██████████| 10/10 [00:10<00:00,  1.04s/it]\n",
            "100%|██████████| 10/10 [00:00<00:00, 37.97it/s]\n",
            "100%|██████████| 10/10 [00:00<00:00, 69.18it/s]\n",
            "100%|██████████| 10/10 [00:00<00:00, 883.49it/s]\n",
            "100%|██████████| 10/10 [00:00<00:00, 1127.41it/s]\n",
            "100%|██████████| 10/10 [00:00<00:00, 990.41it/s]\n",
            "100%|██████████| 10/10 [00:00<00:00, 58.47it/s]\n",
            "100%|██████████| 10/10 [00:00<00:00, 141.42it/s]\n",
            "100%|██████████| 10/10 [00:00<00:00, 149.03it/s]\n",
            "100%|██████████| 10/10 [00:00<00:00, 73.05it/s]\n",
            "100%|██████████| 10/10 [00:00<00:00, 91.22it/s]\n",
            "100%|██████████| 10/10 [00:00<00:00, 114.65it/s]\n",
            "100%|██████████| 10/10 [00:00<00:00, 302.36it/s]\n",
            "100%|██████████| 10/10 [00:00<00:00, 400.12it/s]\n",
            "100%|██████████| 10/10 [00:00<00:00, 533.05it/s]\n",
            "100%|██████████| 10/10 [00:00<00:00, 519.23it/s]\n",
            "100%|██████████| 10/10 [00:08<00:00,  1.20it/s]\n",
            "100%|██████████| 10/10 [00:04<00:00,  2.00it/s]\n",
            "100%|██████████| 10/10 [00:01<00:00,  6.32it/s]\n",
            "100%|██████████| 10/10 [00:00<00:00, 13.84it/s]\n",
            "100%|██████████| 10/10 [00:00<00:00, 11.04it/s]\n",
            "100%|██████████| 10/10 [00:05<00:00,  1.96it/s]\n",
            "100%|██████████| 10/10 [00:01<00:00,  5.36it/s]\n",
            "100%|██████████| 10/10 [00:01<00:00,  8.63it/s]\n",
            "100%|██████████| 10/10 [00:01<00:00,  7.80it/s]\n",
            "100%|██████████| 10/10 [00:00<00:00, 11.23it/s]\n",
            "100%|██████████| 10/10 [00:00<00:00, 25.17it/s]\n",
            "100%|██████████| 10/10 [00:00<00:00, 19.60it/s]\n",
            "100%|██████████| 10/10 [00:00<00:00, 26.81it/s]\n",
            "100%|██████████| 10/10 [00:00<00:00, 51.70it/s]\n",
            "100%|██████████| 10/10 [00:00<00:00, 52.60it/s]\n"
          ]
        }
      ],
      "source": [
        "tr = MyDTC(max_depth=5)\n",
        "tr.fit(X_train.iloc[:,:10].values, pd.DataFrame(y_train).values)"
      ]
    },
    {
      "cell_type": "code",
      "execution_count": 53,
      "metadata": {
        "colab": {
          "base_uri": "https://localhost:8080/"
        },
        "id": "DNpvr2Ojw5Aw",
        "outputId": "a9327511-6832-473f-e665-385ebea965b5"
      },
      "outputs": [
        {
          "data": {
            "text/plain": [
              "0.8783894823336073"
            ]
          },
          "execution_count": 53,
          "metadata": {},
          "output_type": "execute_result"
        }
      ],
      "source": [
        "accuracy_score(y_val, tr.predict(X_val.iloc[:,:10].values))"
      ]
    },
    {
      "cell_type": "code",
      "execution_count": 54,
      "metadata": {
        "colab": {
          "base_uri": "https://localhost:8080/"
        },
        "id": "IjqMPEmpBYlH",
        "outputId": "0d363705-7cbd-4601-a6e9-1c747d7e8086"
      },
      "outputs": [
        {
          "data": {
            "text/plain": [
              "array([[0.75465313, 0.24534687],\n",
              "       [0.93829201, 0.06170799],\n",
              "       [0.95499923, 0.04500077],\n",
              "       ...,\n",
              "       [0.95499923, 0.04500077],\n",
              "       [0.95499923, 0.04500077],\n",
              "       [0.95499923, 0.04500077]])"
            ]
          },
          "execution_count": 54,
          "metadata": {},
          "output_type": "execute_result"
        }
      ],
      "source": [
        "tr.predict_proba(X_val.iloc[:,:10].values)"
      ]
    },
    {
      "cell_type": "markdown",
      "metadata": {
        "id": "-r1s-GuuarJI"
      },
      "source": [
        "Gini score"
      ]
    },
    {
      "cell_type": "code",
      "execution_count": 55,
      "metadata": {
        "colab": {
          "base_uri": "https://localhost:8080/"
        },
        "id": "55aQEdQ6Nqkv",
        "outputId": "3c2eedd8-0402-405c-d4f6-daae1ffe3e13"
      },
      "outputs": [
        {
          "data": {
            "text/plain": [
              "0.17003447455542364"
            ]
          },
          "execution_count": 55,
          "metadata": {},
          "output_type": "execute_result"
        }
      ],
      "source": [
        "2*roc_auc_score(y_val.to_numpy(), tr.predict(X_val.iloc[:,:10].values)) - 1"
      ]
    },
    {
      "cell_type": "markdown",
      "metadata": {
        "id": "znP0lV1EatxA"
      },
      "source": [
        "# 4. Use DecisionTreeClassifier from sklearn and check its performance on validation dataset. Is it better than your module? If it is, why?"
      ]
    },
    {
      "cell_type": "code",
      "execution_count": 57,
      "metadata": {
        "colab": {
          "base_uri": "https://localhost:8080/",
          "height": 75
        },
        "id": "Q5BTvezF-MrM",
        "outputId": "b8bb9f08-205f-4258-d4df-dd9001043995"
      },
      "outputs": [
        {
          "data": {
            "text/html": [
              "<style>#sk-container-id-2 {color: black;background-color: white;}#sk-container-id-2 pre{padding: 0;}#sk-container-id-2 div.sk-toggleable {background-color: white;}#sk-container-id-2 label.sk-toggleable__label {cursor: pointer;display: block;width: 100%;margin-bottom: 0;padding: 0.3em;box-sizing: border-box;text-align: center;}#sk-container-id-2 label.sk-toggleable__label-arrow:before {content: \"▸\";float: left;margin-right: 0.25em;color: #696969;}#sk-container-id-2 label.sk-toggleable__label-arrow:hover:before {color: black;}#sk-container-id-2 div.sk-estimator:hover label.sk-toggleable__label-arrow:before {color: black;}#sk-container-id-2 div.sk-toggleable__content {max-height: 0;max-width: 0;overflow: hidden;text-align: left;background-color: #f0f8ff;}#sk-container-id-2 div.sk-toggleable__content pre {margin: 0.2em;color: black;border-radius: 0.25em;background-color: #f0f8ff;}#sk-container-id-2 input.sk-toggleable__control:checked~div.sk-toggleable__content {max-height: 200px;max-width: 100%;overflow: auto;}#sk-container-id-2 input.sk-toggleable__control:checked~label.sk-toggleable__label-arrow:before {content: \"▾\";}#sk-container-id-2 div.sk-estimator input.sk-toggleable__control:checked~label.sk-toggleable__label {background-color: #d4ebff;}#sk-container-id-2 div.sk-label input.sk-toggleable__control:checked~label.sk-toggleable__label {background-color: #d4ebff;}#sk-container-id-2 input.sk-hidden--visually {border: 0;clip: rect(1px 1px 1px 1px);clip: rect(1px, 1px, 1px, 1px);height: 1px;margin: -1px;overflow: hidden;padding: 0;position: absolute;width: 1px;}#sk-container-id-2 div.sk-estimator {font-family: monospace;background-color: #f0f8ff;border: 1px dotted black;border-radius: 0.25em;box-sizing: border-box;margin-bottom: 0.5em;}#sk-container-id-2 div.sk-estimator:hover {background-color: #d4ebff;}#sk-container-id-2 div.sk-parallel-item::after {content: \"\";width: 100%;border-bottom: 1px solid gray;flex-grow: 1;}#sk-container-id-2 div.sk-label:hover label.sk-toggleable__label {background-color: #d4ebff;}#sk-container-id-2 div.sk-serial::before {content: \"\";position: absolute;border-left: 1px solid gray;box-sizing: border-box;top: 0;bottom: 0;left: 50%;z-index: 0;}#sk-container-id-2 div.sk-serial {display: flex;flex-direction: column;align-items: center;background-color: white;padding-right: 0.2em;padding-left: 0.2em;position: relative;}#sk-container-id-2 div.sk-item {position: relative;z-index: 1;}#sk-container-id-2 div.sk-parallel {display: flex;align-items: stretch;justify-content: center;background-color: white;position: relative;}#sk-container-id-2 div.sk-item::before, #sk-container-id-2 div.sk-parallel-item::before {content: \"\";position: absolute;border-left: 1px solid gray;box-sizing: border-box;top: 0;bottom: 0;left: 50%;z-index: -1;}#sk-container-id-2 div.sk-parallel-item {display: flex;flex-direction: column;z-index: 1;position: relative;background-color: white;}#sk-container-id-2 div.sk-parallel-item:first-child::after {align-self: flex-end;width: 50%;}#sk-container-id-2 div.sk-parallel-item:last-child::after {align-self: flex-start;width: 50%;}#sk-container-id-2 div.sk-parallel-item:only-child::after {width: 0;}#sk-container-id-2 div.sk-dashed-wrapped {border: 1px dashed gray;margin: 0 0.4em 0.5em 0.4em;box-sizing: border-box;padding-bottom: 0.4em;background-color: white;}#sk-container-id-2 div.sk-label label {font-family: monospace;font-weight: bold;display: inline-block;line-height: 1.2em;}#sk-container-id-2 div.sk-label-container {text-align: center;}#sk-container-id-2 div.sk-container {/* jupyter's `normalize.less` sets `[hidden] { display: none; }` but bootstrap.min.css set `[hidden] { display: none !important; }` so we also need the `!important` here to be able to override the default hidden behavior on the sphinx rendered scikit-learn.org. See: https://github.com/scikit-learn/scikit-learn/issues/21755 */display: inline-block !important;position: relative;}#sk-container-id-2 div.sk-text-repr-fallback {display: none;}</style><div id=\"sk-container-id-2\" class=\"sk-top-container\"><div class=\"sk-text-repr-fallback\"><pre>DecisionTreeClassifier(max_depth=5)</pre><b>In a Jupyter environment, please rerun this cell to show the HTML representation or trust the notebook. <br />On GitHub, the HTML representation is unable to render, please try loading this page with nbviewer.org.</b></div><div class=\"sk-container\" hidden><div class=\"sk-item\"><div class=\"sk-estimator sk-toggleable\"><input class=\"sk-toggleable__control sk-hidden--visually\" id=\"sk-estimator-id-2\" type=\"checkbox\" checked><label for=\"sk-estimator-id-2\" class=\"sk-toggleable__label sk-toggleable__label-arrow\">DecisionTreeClassifier</label><div class=\"sk-toggleable__content\"><pre>DecisionTreeClassifier(max_depth=5)</pre></div></div></div></div></div>"
            ],
            "text/plain": [
              "DecisionTreeClassifier(max_depth=5)"
            ]
          },
          "execution_count": 57,
          "metadata": {},
          "output_type": "execute_result"
        }
      ],
      "source": [
        "tree = DecisionTreeClassifier(max_depth=5, criterion='gini')\n",
        "tree.fit(X_train.values[:,:10], y_train.values)"
      ]
    },
    {
      "cell_type": "code",
      "execution_count": 58,
      "metadata": {
        "colab": {
          "base_uri": "https://localhost:8080/"
        },
        "id": "QI9rvS7r7PVR",
        "outputId": "cf99d49f-3262-44fa-f8ff-eb618904d5f2"
      },
      "outputs": [
        {
          "data": {
            "text/plain": [
              "0.878430566967954"
            ]
          },
          "execution_count": 58,
          "metadata": {},
          "output_type": "execute_result"
        }
      ],
      "source": [
        "accuracy_score(y_val, tree.predict(X_val.iloc[:,:10].values))"
      ]
    },
    {
      "cell_type": "code",
      "execution_count": 59,
      "metadata": {
        "colab": {
          "base_uri": "https://localhost:8080/"
        },
        "id": "zv7bxbHB-Mm1",
        "outputId": "ecb7333f-26d4-4fa1-81fa-dfa3e2632a63"
      },
      "outputs": [
        {
          "data": {
            "text/plain": [
              "array([[0.75485009, 0.24514991],\n",
              "       [0.94490255, 0.05509745],\n",
              "       [0.95624345, 0.04375655],\n",
              "       ...,\n",
              "       [0.95624345, 0.04375655],\n",
              "       [0.95624345, 0.04375655],\n",
              "       [0.95624345, 0.04375655]])"
            ]
          },
          "execution_count": 59,
          "metadata": {},
          "output_type": "execute_result"
        }
      ],
      "source": [
        "tree.predict_proba(X_val.iloc[:,:10].values)"
      ]
    },
    {
      "cell_type": "markdown",
      "metadata": {
        "id": "Bn3MQ-0la928"
      },
      "source": [
        "Gini score"
      ]
    },
    {
      "cell_type": "code",
      "execution_count": 60,
      "metadata": {
        "colab": {
          "base_uri": "https://localhost:8080/"
        },
        "id": "OBHi0LzqrE9y",
        "outputId": "708b5077-7ac0-4308-f966-8f3d1c27cf8c"
      },
      "outputs": [
        {
          "data": {
            "text/plain": [
              "0.16766864204467424"
            ]
          },
          "execution_count": 60,
          "metadata": {},
          "output_type": "execute_result"
        }
      ],
      "source": [
        "abs(2*roc_auc_score(y_val.to_numpy(), tree.predict(X_val.iloc[:,:10].values)) - 1)"
      ]
    },
    {
      "cell_type": "markdown",
      "metadata": {
        "id": "ueVzD_KkbAfD"
      },
      "source": [
        "Лучше потому что больше настроек обучения есть а также наверно потому что на плюсах"
      ]
    },
    {
      "cell_type": "markdown",
      "metadata": {
        "id": "YeE89aorbTc0"
      },
      "source": [
        "# 5. Implement RandomForestClassifier and check its performance. You have to improve the result of one single tree and receive at least 0.15 Gini score on the validation dataset. Be able to set fixed random seed."
      ]
    },
    {
      "cell_type": "code",
      "execution_count": 82,
      "metadata": {
        "id": "HT6eHkZkUtcC"
      },
      "outputs": [],
      "source": [
        "import random\n",
        "\n",
        "class MyRFC:\n",
        "    def __init__(self, n_estimators=10, max_depth=5, random_state=None):\n",
        "        self.n_estimators = n_estimators\n",
        "        self.max_depth = max_depth\n",
        "        self.random_state = random_state\n",
        "        if self.random_state is not None:\n",
        "            random.seed(self.random_state)\n",
        "        self.trees = []\n",
        "\n",
        "    def fit(self, X, y):\n",
        "        for _ in range(self.n_estimators):\n",
        "            indices = np.random.choice(len(X), size=len(X), replace=True)\n",
        "            X_sample = X[indices]\n",
        "            y_sample = y[indices]\n",
        "            tree = MyDTC(max_depth=self.max_depth)\n",
        "            tree.fit(X_sample, y_sample)\n",
        "            self.trees.append(tree)\n",
        "\n",
        "    def predict(self, X):\n",
        "        predictions = []\n",
        "        for sample in X:\n",
        "            votes = []\n",
        "            for tree in self.trees:\n",
        "                votes.append(tree.predict([sample])[0])\n",
        "            predictions.append(max(set(votes), key=votes.count))\n",
        "        return np.array(predictions)\n",
        "\n",
        "\n",
        "    def predict_proba(self, X):\n",
        "        probabilities = np.array([tree.predict_proba(X) for tree in self.trees])\n",
        "        return np.mean(probabilities, axis=0)\n"
      ]
    },
    {
      "cell_type": "code",
      "execution_count": 83,
      "metadata": {
        "colab": {
          "base_uri": "https://localhost:8080/"
        },
        "id": "O1Z_0DDYUtX6",
        "outputId": "1e685c73-e97e-45ab-89ff-378c5571eac2"
      },
      "outputs": [
        {
          "name": "stderr",
          "output_type": "stream",
          "text": [
            "100%|██████████| 10/10 [00:08<00:00,  1.23it/s]\n",
            "100%|██████████| 10/10 [00:00<00:00, 34.04it/s]\n",
            "100%|██████████| 10/10 [00:09<00:00,  1.08it/s]\n",
            "100%|██████████| 10/10 [00:08<00:00,  1.23it/s]\n",
            "100%|██████████| 10/10 [00:00<00:00, 19.76it/s]\n",
            "100%|██████████| 10/10 [00:08<00:00,  1.11it/s]\n",
            "100%|██████████| 10/10 [00:09<00:00,  1.05it/s]\n",
            "100%|██████████| 10/10 [00:00<00:00, 36.14it/s]\n",
            "100%|██████████| 10/10 [00:12<00:00,  1.28s/it]\n"
          ]
        }
      ],
      "source": [
        "rfc = MyRFC(max_depth=2, n_estimators=3, random_state=21)\n",
        "rfc.fit(X_train.iloc[:,:10].values, pd.DataFrame(y_train).values)"
      ]
    },
    {
      "cell_type": "code",
      "execution_count": 84,
      "metadata": {
        "colab": {
          "base_uri": "https://localhost:8080/"
        },
        "id": "HR4Cp_FRUtUq",
        "outputId": "e511f31d-cf70-4551-e99e-b364cc55095c"
      },
      "outputs": [
        {
          "data": {
            "text/plain": [
              "0.881922760887428"
            ]
          },
          "execution_count": 84,
          "metadata": {},
          "output_type": "execute_result"
        }
      ],
      "source": [
        "accuracy_score(y_val, rfc.predict(X_val.iloc[:,:10].values))"
      ]
    },
    {
      "cell_type": "markdown",
      "metadata": {
        "id": "oZ2q7gbqN9nO"
      },
      "source": [
        "gini score"
      ]
    },
    {
      "cell_type": "code",
      "execution_count": 85,
      "metadata": {
        "colab": {
          "base_uri": "https://localhost:8080/"
        },
        "id": "Ab6BD0SMN21B",
        "outputId": "11036969-5b6d-4c01-9a69-0cbdeb272772"
      },
      "outputs": [
        {
          "data": {
            "text/plain": [
              "0.236032518052115"
            ]
          },
          "execution_count": 85,
          "metadata": {},
          "output_type": "execute_result"
        }
      ],
      "source": [
        "abs(2*roc_auc_score(y_val.to_numpy(), rfc.predict(X_val.iloc[:,:10].values)) - 1)"
      ]
    },
    {
      "cell_type": "markdown",
      "metadata": {
        "id": "sguFHuFgBG1R"
      },
      "source": [
        "# 6. Using your DecisionTree design class for GDBT classifier.\n",
        "This class must have max_depth, number_of_trees and max_features attributes. You have to compute the gradient of the binary cross entropy loss function and implement incremental learning: train the next tree using the results of previous trees."
      ]
    },
    {
      "cell_type": "markdown",
      "metadata": {
        "id": "olepGq5dNqjz"
      },
      "source": [
        "# 7. Use LightGBM, Catboost and XGBoost to fit on a training set and prediction on validation dataset.\n",
        "Check documentation of the libraries, and fine-tune the algorithms for the task.\n",
        "Write down key differences between all implementations. Analyze special features of every algorithm (how do “categorical feature” work in Catboost, what is DART mode in XGBoost)?\n",
        "What GBDT model gives the best result? Can you explain why?"
      ]
    },
    {
      "cell_type": "code",
      "execution_count": 93,
      "metadata": {
        "colab": {
          "base_uri": "https://localhost:8080/"
        },
        "id": "vmCa1rDxBMA1",
        "outputId": "5e173bee-15f4-4554-cab5-c5e059936f4e"
      },
      "outputs": [
        {
          "name": "stdout",
          "output_type": "stream",
          "text": [
            "\u001b[2K     \u001b[90m━━━━━━━━━━━━━━━━━━━━━━━━━━━━━━━━━━━━━━━━\u001b[0m \u001b[32m98.5/98.5 MB\u001b[0m \u001b[31m7.2 MB/s\u001b[0m eta \u001b[36m0:00:00\u001b[0m\n",
            "\u001b[?25h"
          ]
        }
      ],
      "source": [
        "!pip install lightgbm catboost xgboost -q"
      ]
    },
    {
      "cell_type": "code",
      "execution_count": 94,
      "metadata": {
        "id": "IBAjIjkhOV9b"
      },
      "outputs": [],
      "source": [
        "import lightgbm as lgb\n",
        "import catboost as cb\n",
        "import xgboost as xgb"
      ]
    },
    {
      "cell_type": "code",
      "execution_count": 100,
      "metadata": {
        "colab": {
          "base_uri": "https://localhost:8080/"
        },
        "id": "H6wuqufnOV25",
        "outputId": "417816e5-09d3-44fe-a068-8682b659e02e"
      },
      "outputs": [
        {
          "data": {
            "text/plain": [
              "0.23150229239697206"
            ]
          },
          "execution_count": 100,
          "metadata": {},
          "output_type": "execute_result"
        }
      ],
      "source": [
        "lgb_model = lgb.LGBMClassifier(\n",
        "    boosting_type='gbdt',\n",
        "    num_leaves=31,\n",
        "    max_depth=-1,\n",
        "    learning_rate=0.1,\n",
        "    n_estimators=100,\n",
        "    objective='binary',\n",
        "    min_split_gain=0.01,\n",
        "    min_child_samples=20,\n",
        "    random_state=21\n",
        "    )\n",
        "lgb_model.fit(X_train, y_train)\n",
        "lgb_preds = lgb_model.predict(X_val)\n",
        "\n",
        "abs(2*roc_auc_score(y_val.to_numpy(), lgb_model.predict(X_val.values)) - 1)"
      ]
    },
    {
      "cell_type": "code",
      "execution_count": 102,
      "metadata": {
        "colab": {
          "base_uri": "https://localhost:8080/"
        },
        "id": "t_9E5qKcUWqD",
        "outputId": "b8ee126c-f5b4-4850-96d2-14e88cc4ba23"
      },
      "outputs": [
        {
          "data": {
            "text/plain": [
              "0.2222792833019145"
            ]
          },
          "execution_count": 102,
          "metadata": {},
          "output_type": "execute_result"
        }
      ],
      "source": [
        "cb_params = {}\n",
        "cb_model = cb.CatBoostClassifier(iterations=2, depth=10, learning_rate=0.1, loss_function='Logloss',\n",
        "                              logging_level='Verbose')\n",
        "cb_model.fit(X_train, y_train)\n",
        "cb_preds = cb_model.predict(X_val)\n",
        "\n",
        "abs(2*roc_auc_score(y_val.to_numpy(), cb_model.predict(X_val.values)) - 1)"
      ]
    },
    {
      "cell_type": "code",
      "execution_count": 104,
      "metadata": {
        "colab": {
          "base_uri": "https://localhost:8080/"
        },
        "id": "1CMb-t4QU9ZH",
        "outputId": "1dafeecf-3199-4afc-84f8-470225e89a7c"
      },
      "outputs": [
        {
          "data": {
            "text/plain": [
              "0.229516963088076"
            ]
          },
          "execution_count": 104,
          "metadata": {},
          "output_type": "execute_result"
        }
      ],
      "source": [
        "xgb_model = xgb.XGBClassifier(\n",
        " learning_rate =0.1,\n",
        " n_estimators=100,\n",
        " max_depth=10,\n",
        " min_child_weight=1,\n",
        " subsample=0.8,\n",
        " colsample_bytree=0.8,\n",
        " objective= 'binary:logistic',\n",
        " nthread=4,\n",
        " scale_pos_weight=1,\n",
        " seed=27)\n",
        "xgb_model.fit(X_train, y_train)\n",
        "xgb_preds = xgb_model.predict(X_val)\n",
        "\n",
        "abs(2*roc_auc_score(y_val.to_numpy(), xgb_model.predict(X_val.values)) - 1)\n"
      ]
    },
    {
      "cell_type": "markdown",
      "metadata": {
        "id": "N6foxy_eVcpZ"
      },
      "source": [
        "LightGBM:\n",
        "\n",
        "Ключевые отличия: LightGBM использует алгоритм на основе гистограммы для поиска наилучшей точки разделения, что делает его более быстрым, чем другие алгоритмы повышения градиента. Он также поддерживает параллельное обучение и обучение на графическом процессоре.\n",
        "Специальные возможности: LightGBM имеет встроенный механизм для обработки категориальных объектов. Он может автоматически обрабатывать категориальные объекты, не требуя явного кодирования. Он использует метод \"односторонней выборки на основе градиента\" (GOSS) для уменьшения использования памяти и повышения скорости обучения.  \n",
        "  \n",
        "Catboost:\n",
        "Ключевые отличия: Catboost разработан для эффективной обработки категориальных функций. В нем используется инновационный алгоритм под названием \"Упорядоченное повышение\", который включает упорядочение категориальных переменных в процессе обучения. Он также поддерживает обучение на графическом процессоре.\n",
        "Специальные возможности: Catboost автоматически обрабатывает категориальные функции по умолчанию. Он использует комбинацию однократного кодирования и алгоритм, называемый \"Симметричными деревьями решений\", для обработки категориальных переменных. Catboost также имеет встроенную поддержку для обработки пропущенных значений.\n",
        "  \n",
        "XGBoost:  \n",
        "Ключевые отличия: XGBoost известен своей масштабируемостью и производительностью. Он поддерживает параллельные и распределенные вычисления и предоставляет различные методы регуляризации для предотвращения переобучения. Он также поддерживает обучение на графическом процессоре.\n",
        "Специальные возможности: В XGBoost есть специальный режим под названием \"DART\" (Деревья аддитивной регрессии выпадения), который является улучшенной версией градиентного бустинга. DART вводит регуляризацию выпадения в процессе обучения, что помогает уменьшить переобучение. Он также имеет встроенную поддержку для обработки пропущенных значений.\n",
        "Чтобы определить, какая модель GBDT дает наилучший результат, вам необходимо оценить их эффективность в наборе данных проверки, используя соответствующие оценочные показатели (например, точность, прецизионность, отзыв, F1-оценка). Наилучшей моделью будет та, которая обеспечивает наивысшую производительность на основе выбранного показателя.  \n",
        "\n",
        "Выбор наилучшей модели может зависеть от различных факторов, таких как набор данных, характер проблемы и конкретные требования. Рекомендуется поэкспериментировать с различными моделями, настроить их гиперпараметры и оценить их производительность, чтобы принять обоснованное решение."
      ]
    },
    {
      "cell_type": "markdown",
      "metadata": {
        "id": "e6oeMjJsVrHx"
      },
      "source": [
        "# 8. Pick up the best model and estimate its performance on the test dataset:\n",
        "check Gini scores on all three datasets for your best model: train Gini, valid Gini, test Gini. Can you see any drop in performance when comparing valid quality vs test quality? Is your model overfitted or not?"
      ]
    },
    {
      "cell_type": "code",
      "execution_count": 105,
      "metadata": {
        "colab": {
          "base_uri": "https://localhost:8080/",
          "height": 231
        },
        "id": "erDf0xBEOVwc",
        "outputId": "71167929-7201-4eae-e650-d1d43cce12e3"
      },
      "outputs": [
        {
          "name": "stdout",
          "output_type": "stream",
          "text": [
            "[LightGBM] [Warning] Found whitespace in feature_names, replace with underlines\n",
            "[LightGBM] [Info] Number of positive: 2795, number of negative: 21545\n",
            "[LightGBM] [Info] Auto-choosing row-wise multi-threading, the overhead of testing was 0.005838 seconds.\n",
            "You can set `force_row_wise=true` to remove the overhead.\n",
            "And if memory is not enough, you can set `force_col_wise=true`.\n",
            "[LightGBM] [Info] Total Bins 3986\n",
            "[LightGBM] [Info] Number of data points in the train set: 24340, number of used features: 607\n",
            "[LightGBM] [Info] [binary:BoostFromScore]: pavg=0.114832 -> initscore=-2.042312\n",
            "[LightGBM] [Info] Start training from score -2.042312\n"
          ]
        },
        {
          "data": {
            "text/html": [
              "<style>#sk-container-id-6 {color: black;background-color: white;}#sk-container-id-6 pre{padding: 0;}#sk-container-id-6 div.sk-toggleable {background-color: white;}#sk-container-id-6 label.sk-toggleable__label {cursor: pointer;display: block;width: 100%;margin-bottom: 0;padding: 0.3em;box-sizing: border-box;text-align: center;}#sk-container-id-6 label.sk-toggleable__label-arrow:before {content: \"▸\";float: left;margin-right: 0.25em;color: #696969;}#sk-container-id-6 label.sk-toggleable__label-arrow:hover:before {color: black;}#sk-container-id-6 div.sk-estimator:hover label.sk-toggleable__label-arrow:before {color: black;}#sk-container-id-6 div.sk-toggleable__content {max-height: 0;max-width: 0;overflow: hidden;text-align: left;background-color: #f0f8ff;}#sk-container-id-6 div.sk-toggleable__content pre {margin: 0.2em;color: black;border-radius: 0.25em;background-color: #f0f8ff;}#sk-container-id-6 input.sk-toggleable__control:checked~div.sk-toggleable__content {max-height: 200px;max-width: 100%;overflow: auto;}#sk-container-id-6 input.sk-toggleable__control:checked~label.sk-toggleable__label-arrow:before {content: \"▾\";}#sk-container-id-6 div.sk-estimator input.sk-toggleable__control:checked~label.sk-toggleable__label {background-color: #d4ebff;}#sk-container-id-6 div.sk-label input.sk-toggleable__control:checked~label.sk-toggleable__label {background-color: #d4ebff;}#sk-container-id-6 input.sk-hidden--visually {border: 0;clip: rect(1px 1px 1px 1px);clip: rect(1px, 1px, 1px, 1px);height: 1px;margin: -1px;overflow: hidden;padding: 0;position: absolute;width: 1px;}#sk-container-id-6 div.sk-estimator {font-family: monospace;background-color: #f0f8ff;border: 1px dotted black;border-radius: 0.25em;box-sizing: border-box;margin-bottom: 0.5em;}#sk-container-id-6 div.sk-estimator:hover {background-color: #d4ebff;}#sk-container-id-6 div.sk-parallel-item::after {content: \"\";width: 100%;border-bottom: 1px solid gray;flex-grow: 1;}#sk-container-id-6 div.sk-label:hover label.sk-toggleable__label {background-color: #d4ebff;}#sk-container-id-6 div.sk-serial::before {content: \"\";position: absolute;border-left: 1px solid gray;box-sizing: border-box;top: 0;bottom: 0;left: 50%;z-index: 0;}#sk-container-id-6 div.sk-serial {display: flex;flex-direction: column;align-items: center;background-color: white;padding-right: 0.2em;padding-left: 0.2em;position: relative;}#sk-container-id-6 div.sk-item {position: relative;z-index: 1;}#sk-container-id-6 div.sk-parallel {display: flex;align-items: stretch;justify-content: center;background-color: white;position: relative;}#sk-container-id-6 div.sk-item::before, #sk-container-id-6 div.sk-parallel-item::before {content: \"\";position: absolute;border-left: 1px solid gray;box-sizing: border-box;top: 0;bottom: 0;left: 50%;z-index: -1;}#sk-container-id-6 div.sk-parallel-item {display: flex;flex-direction: column;z-index: 1;position: relative;background-color: white;}#sk-container-id-6 div.sk-parallel-item:first-child::after {align-self: flex-end;width: 50%;}#sk-container-id-6 div.sk-parallel-item:last-child::after {align-self: flex-start;width: 50%;}#sk-container-id-6 div.sk-parallel-item:only-child::after {width: 0;}#sk-container-id-6 div.sk-dashed-wrapped {border: 1px dashed gray;margin: 0 0.4em 0.5em 0.4em;box-sizing: border-box;padding-bottom: 0.4em;background-color: white;}#sk-container-id-6 div.sk-label label {font-family: monospace;font-weight: bold;display: inline-block;line-height: 1.2em;}#sk-container-id-6 div.sk-label-container {text-align: center;}#sk-container-id-6 div.sk-container {/* jupyter's `normalize.less` sets `[hidden] { display: none; }` but bootstrap.min.css set `[hidden] { display: none !important; }` so we also need the `!important` here to be able to override the default hidden behavior on the sphinx rendered scikit-learn.org. See: https://github.com/scikit-learn/scikit-learn/issues/21755 */display: inline-block !important;position: relative;}#sk-container-id-6 div.sk-text-repr-fallback {display: none;}</style><div id=\"sk-container-id-6\" class=\"sk-top-container\"><div class=\"sk-text-repr-fallback\"><pre>LGBMClassifier(min_split_gain=0.01, objective=&#x27;binary&#x27;, random_state=21)</pre><b>In a Jupyter environment, please rerun this cell to show the HTML representation or trust the notebook. <br />On GitHub, the HTML representation is unable to render, please try loading this page with nbviewer.org.</b></div><div class=\"sk-container\" hidden><div class=\"sk-item\"><div class=\"sk-estimator sk-toggleable\"><input class=\"sk-toggleable__control sk-hidden--visually\" id=\"sk-estimator-id-6\" type=\"checkbox\" checked><label for=\"sk-estimator-id-6\" class=\"sk-toggleable__label sk-toggleable__label-arrow\">LGBMClassifier</label><div class=\"sk-toggleable__content\"><pre>LGBMClassifier(min_split_gain=0.01, objective=&#x27;binary&#x27;, random_state=21)</pre></div></div></div></div></div>"
            ],
            "text/plain": [
              "LGBMClassifier(min_split_gain=0.01, objective='binary', random_state=21)"
            ]
          },
          "execution_count": 105,
          "metadata": {},
          "output_type": "execute_result"
        }
      ],
      "source": [
        "lgb_model = lgb.LGBMClassifier(\n",
        "    boosting_type='gbdt',\n",
        "    num_leaves=31,\n",
        "    max_depth=-1,\n",
        "    learning_rate=0.1,\n",
        "    n_estimators=100,\n",
        "    objective='binary',\n",
        "    min_split_gain=0.01,\n",
        "    min_child_samples=20,\n",
        "    random_state=21\n",
        "    )\n",
        "lgb_model.fit(X_train, y_train)"
      ]
    },
    {
      "cell_type": "markdown",
      "metadata": {
        "id": "wcmxnbjLWBLF"
      },
      "source": [
        "Train Gini"
      ]
    },
    {
      "cell_type": "code",
      "execution_count": 106,
      "metadata": {
        "colab": {
          "base_uri": "https://localhost:8080/"
        },
        "id": "IUVCG-pZV7ga",
        "outputId": "63c0acc2-acf3-4546-aa28-dc52bc48039d"
      },
      "outputs": [
        {
          "data": {
            "text/plain": [
              "0.26726687205835775"
            ]
          },
          "execution_count": 106,
          "metadata": {},
          "output_type": "execute_result"
        }
      ],
      "source": [
        "abs(2*roc_auc_score(y_train.to_numpy(), lgb_model.predict(X_train.values)) - 1)\n"
      ]
    },
    {
      "cell_type": "markdown",
      "metadata": {
        "id": "0HaCo2RAWE0Y"
      },
      "source": [
        "Val Gini"
      ]
    },
    {
      "cell_type": "code",
      "execution_count": 107,
      "metadata": {
        "colab": {
          "base_uri": "https://localhost:8080/"
        },
        "id": "dMUhuef3V7bY",
        "outputId": "d53ab917-97b5-48a8-b519-48a67e7366a8"
      },
      "outputs": [
        {
          "data": {
            "text/plain": [
              "0.23150229239697206"
            ]
          },
          "execution_count": 107,
          "metadata": {},
          "output_type": "execute_result"
        }
      ],
      "source": [
        "abs(2*roc_auc_score(y_val.to_numpy(), lgb_model.predict(X_val.values)) - 1)"
      ]
    },
    {
      "cell_type": "markdown",
      "metadata": {
        "id": "h_TiqR7eWFR2"
      },
      "source": [
        "Test Gini"
      ]
    },
    {
      "cell_type": "code",
      "execution_count": 108,
      "metadata": {
        "colab": {
          "base_uri": "https://localhost:8080/"
        },
        "id": "ZJaRfh2VV7OL",
        "outputId": "c8a988d3-9495-4501-bb75-5b9ad5518de3"
      },
      "outputs": [
        {
          "data": {
            "text/plain": [
              "0.22048498194425115"
            ]
          },
          "execution_count": 108,
          "metadata": {},
          "output_type": "execute_result"
        }
      ],
      "source": [
        "abs(2*roc_auc_score(y_test.to_numpy(), lgb_model.predict(X_test.values)) - 1)"
      ]
    },
    {
      "cell_type": "markdown",
      "metadata": {
        "id": "dEDFjeqfWcyK"
      },
      "source": [
        "Просадка не больгая, думаю нормально обученная модель"
      ]
    }
  ],
  "metadata": {
    "colab": {
      "provenance": []
    },
    "kernelspec": {
      "display_name": "Python 3",
      "name": "python3"
    },
    "language_info": {
      "codemirror_mode": {
        "name": "ipython",
        "version": 3
      },
      "file_extension": ".py",
      "mimetype": "text/x-python",
      "name": "python",
      "nbconvert_exporter": "python",
      "pygments_lexer": "ipython3",
      "version": "3.10.12"
    }
  },
  "nbformat": 4,
  "nbformat_minor": 0
}
